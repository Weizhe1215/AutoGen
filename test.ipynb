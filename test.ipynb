{
 "cells": [
  {
   "cell_type": "code",
   "id": "initial_id",
   "metadata": {
    "collapsed": true,
    "ExecuteTime": {
     "end_time": "2024-08-02T08:54:47.302998Z",
     "start_time": "2024-08-02T08:54:46.874545Z"
    }
   },
   "source": [
    "from autogen import ConversableAgent\n",
    "from openai import OpenAI\n",
    "from pathlib import Path\n",
    "\n",
    "import LLM_configs\n",
    "import Prompt_dics\n",
    "from LLM_configs import *"
   ],
   "outputs": [],
   "execution_count": 1
  },
  {
   "cell_type": "code",
   "source": [
    "# 加载 .env 文件\n",
    "load_dotenv()"
   ],
   "metadata": {
    "collapsed": false,
    "ExecuteTime": {
     "end_time": "2024-08-02T08:54:47.660706Z",
     "start_time": "2024-08-02T08:54:47.655666Z"
    }
   },
   "id": "5e7b0130d26455f6",
   "outputs": [
    {
     "data": {
      "text/plain": [
       "True"
      ]
     },
     "execution_count": 2,
     "metadata": {},
     "output_type": "execute_result"
    }
   ],
   "execution_count": 2
  },
  {
   "metadata": {},
   "cell_type": "markdown",
   "source": [
    "## 文件提取"
   ],
   "id": "dceb703782234c63"
  },
  {
   "metadata": {
    "ExecuteTime": {
     "end_time": "2024-08-02T08:54:48.360729Z",
     "start_time": "2024-08-02T08:54:48.296205Z"
    }
   },
   "cell_type": "code",
   "source": [
    "# Kimi的文件接口\n",
    "client = OpenAI(\n",
    "    api_key = os.environ.get(\"Kimi_API_KEY\"),\n",
    "    base_url = \"https://api.moonshot.cn/v1\",\n",
    ")"
   ],
   "id": "60c8834e0892f93b",
   "outputs": [],
   "execution_count": 3
  },
  {
   "metadata": {
    "ExecuteTime": {
     "end_time": "2024-08-02T08:54:48.636276Z",
     "start_time": "2024-08-02T08:54:48.633336Z"
    }
   },
   "cell_type": "code",
   "source": [
    "# 使用kimi api读取\n",
    "def file_extraction(file_path):\n",
    "    file_object = client.files.create(file=Path(file_path), purpose=\"file-extract\")\n",
    "    file_content = client.files.content(file_id=file_object.id).text\n",
    "    return file_content"
   ],
   "id": "48716538a15776a0",
   "outputs": [],
   "execution_count": 4
  },
  {
   "metadata": {
    "ExecuteTime": {
     "end_time": "2024-08-02T08:54:49.418123Z",
     "start_time": "2024-08-02T08:54:48.933750Z"
    }
   },
   "cell_type": "code",
   "source": "text = file_extraction(\"test files/象上-文稿-转写结果.docx\")",
   "id": "54e93ac2849a936d",
   "outputs": [],
   "execution_count": 5
  },
  {
   "cell_type": "code",
   "source": [
    "PPT = file_extraction(\"test files/上海象上投资.pptx\")"
   ],
   "metadata": {
    "collapsed": false,
    "ExecuteTime": {
     "end_time": "2024-08-02T08:54:50.054601Z",
     "start_time": "2024-08-02T08:54:49.419733Z"
    }
   },
   "id": "41fe22128481ab7e",
   "outputs": [],
   "execution_count": 6
  },
  {
   "metadata": {},
   "cell_type": "markdown",
   "source": [
    "## Agent设计"
   ],
   "id": "c62c5036c7e2dc36"
  },
  {
   "metadata": {
    "ExecuteTime": {
     "end_time": "2024-08-02T08:54:50.234759Z",
     "start_time": "2024-08-02T08:54:50.232798Z"
    }
   },
   "cell_type": "code",
   "source": [
    "quant_dict = {\n",
    "    'quant_idea':[],\n",
    "    'factor_composition':[],\n",
    "    'factor_explanation':[],\n",
    "    'model_explanation':[],\n",
    "    'factor_update':[],\n",
    "    'strategy_execution':[]\n",
    "}"
   ],
   "id": "d087e9c10b4f1520",
   "outputs": [],
   "execution_count": 7
  },
  {
   "metadata": {
    "ExecuteTime": {
     "end_time": "2024-08-02T08:54:50.655033Z",
     "start_time": "2024-08-02T08:54:50.651715Z"
    }
   },
   "cell_type": "code",
   "source": [
    "def report_writing(weak_config, strong_config,prompts,component_dict, requirements):\n",
    "    extraction_assistant = ConversableAgent(\n",
    "        name = \"信息提取员\",\n",
    "        system_message = \"你是一个信息提取员，任务是将我需要的信息，从我给你的一大段文字中提取出来，并返回给我\",\n",
    "        llm_config = weak_config\n",
    "    )\n",
    "    \n",
    "    integrate_assistant = ConversableAgent(\n",
    "        name=\"报告撰写员\",\n",
    "        system_message=f\"你是一个报告撰写员，需要根据我发给你的字段，根据我的要求，详细的写出一份报告，并返回给我,以下是要求：不需要面面俱到，写出提供材料中包含的即可：{requirements}\",\n",
    "        llm_config = strong_config\n",
    "    )\n",
    "    \n",
    "    for prompt, component in zip(prompts, list(component_dict.keys())):\n",
    "        reply = extraction_assistant.generate_reply(messages=[{\"content\": text, \"role\":\"system\"},\n",
    "                                                      {\"content\": prompt, \"role\": \"user\"}])\n",
    "        component_dict[component].append(reply)\n",
    "    \n",
    "    final_report = integrate_assistant.generate_reply(messages=[{\"content\": str(quant_dict), \"role\": \"system\"},\n",
    "                                                                {\n",
    "                                                                    \"content\": \"按需求生成报告，不要分段，写成一整段，要求逻辑清晰，细节完整，长度越长越好，但不要有过多的你自由发挥的解释，客观记录为主, 不要出现评价语言，例如“这体现了XXXX\",\n",
    "                                                                    \"role\": \"user\"}])\n",
    "    \n",
    "    cost_list = [extraction_assistant.get_total_usage(),integrate_assistant.get_total_usage()]\n",
    "    \n",
    "    return final_report, component_dict, cost_list\n",
    "        \n",
    "        \n",
    "    "
   ],
   "id": "c63d89bdd630bb1a",
   "outputs": [],
   "execution_count": 8
  },
  {
   "metadata": {
    "ExecuteTime": {
     "end_time": "2024-08-02T08:56:43.468307Z",
     "start_time": "2024-08-02T08:54:51.167513Z"
    }
   },
   "cell_type": "code",
   "source": "Ali_report, Quant_component_dic, cost_list = report_writing(LLM_configs.kimi_weak_llm_config, LLM_configs.Qwen_strong_llm_config, Prompt_dics.Strategy_prompt_dic['Simple Quant Strategy'],quant_dict, Prompt_dics.Strategy_requirements_dic['Simple Quant Strategy'])",
   "id": "68550a60fd26755f",
   "outputs": [
    {
     "name": "stdout",
     "output_type": "stream",
     "text": [
      "\u001B[31m\n",
      ">>>>>>>> USING AUTO REPLY...\u001B[0m\n",
      "\u001B[31m\n",
      ">>>>>>>> USING AUTO REPLY...\u001B[0m\n",
      "\u001B[31m\n",
      ">>>>>>>> USING AUTO REPLY...\u001B[0m\n",
      "\u001B[31m\n",
      ">>>>>>>> USING AUTO REPLY...\u001B[0m\n",
      "\u001B[31m\n",
      ">>>>>>>> USING AUTO REPLY...\u001B[0m\n",
      "\u001B[31m\n",
      ">>>>>>>> USING AUTO REPLY...\u001B[0m\n",
      "\u001B[31m\n",
      ">>>>>>>> USING AUTO REPLY...\u001B[0m\n"
     ]
    }
   ],
   "execution_count": 9
  },
  {
   "metadata": {
    "ExecuteTime": {
     "end_time": "2024-08-02T08:56:43.476289Z",
     "start_time": "2024-08-02T08:56:43.470936Z"
    }
   },
   "cell_type": "code",
   "source": "print(Ali_report)",
   "id": "d71d79e048008e01",
   "outputs": [
    {
     "name": "stdout",
     "output_type": "stream",
     "text": [
      "管理人的量化策略整体思路围绕着综合运用手工挖掘与机器学习技术，以实现因子的有效识别与策略优化。策略核心在于结合基本面因子（占比40%）、另类因子（占比10%）与量价因子（占比50%）的多元视角，通过约三五十个精心挑选的因子，构建出逻辑性强、适应市场变化的量化模型。这些因子的挖掘主要依赖于人工逻辑筛选，同时正逐步引入机器学习方法以增强因子发现的效率与深度，虽然具体算法未明，但这一结合方式显示了管理人在追求因子质量与创新上的努力。\n",
      "\n",
      "在因子处理上，管理人首先通过单因子测试，确保因子具备显著的多空收益和良好的夏普比率，随后依据因子间相关性及历史表现调整权重，实现因子的有效合成与优化。模型构建方面，管理人采取了线性排序打分模型与机器学习模型的混合策略，前者用于日常的股票排序与评分，后者则专注于预测子策略表现以动态调整策略权重，同时探索舆情数据的应用潜力，尽管实际应用尚在开发阶段。这种双轨制模型设计旨在平衡模型的解释力与预测能力，提高策略的灵活性与适应性。\n",
      "\n",
      "新因子的入库标准严谨，需经过模拟盘的长期观察，高频因子约两至三个月，低频因子则延长至半年，确保因子的稳健性。入库前还需满足严格的绩效指标，如多空收益与夏普比率，以此保证因子池的质量。此外，管理人对因子实行持续监控与动态调整机制，即使暂时失效的因子也会视市场环境变化而考虑重新启用。\n",
      "\n",
      "执行层面，管理人通过细致的操作实现了策略的精准落地。策略涵盖约200至300只股票，保持与指数的中性定位，行业偏离度控制在5%至10%，风格偏离度维持在基准的15%左右，体现了策略的均衡与纪律性。年化双边换手率维持在60至80倍，显示了适度的交易活跃度，而持股数量与市值暴露的管理则反映了对风险的严格控制。调仓策略灵活，既保持每日微调，也适时进行大比例调整，确保策略的动态优化。\n",
      "\n",
      "对于对冲，虽然具体对冲方法未明确提及，但基于量化中性策略的实施，可以推断管理人运用了相应的市场中性手段，如使用期货、期权或其他金融衍生品来对冲市场风险，确保策略表现独立于市场方向，减少敞口风险。\n",
      "\n",
      "综上所述，管理人的量化策略展现了从因子挖掘、处理、模型构建到执行的全面且细致的流程，结合了传统逻辑与现代机器学习的优势，旨在通过高度优化的策略配置捕捉市场机会，同时严格控制风险，实现稳定的投资回报。\n"
     ]
    }
   ],
   "execution_count": 10
  },
  {
   "metadata": {
    "ExecuteTime": {
     "end_time": "2024-08-02T08:56:43.482051Z",
     "start_time": "2024-08-02T08:56:43.477682Z"
    }
   },
   "cell_type": "code",
   "source": "cost_list",
   "id": "6226e82a9bbc26d8",
   "outputs": [
    {
     "data": {
      "text/plain": [
       "[{'total_cost': 0.4515720000000001,\n",
       "  'moonshot-v1-8k': {'cost': 0.4515720000000001,\n",
       "   'prompt_tokens': 35944,\n",
       "   'completion_tokens': 1687,\n",
       "   'total_tokens': 37631}},\n",
       " {'total_cost': 0.16332000000000002,\n",
       "  'qwen-max': {'cost': 0.16332000000000002,\n",
       "   'prompt_tokens': 2289,\n",
       "   'completion_tokens': 598,\n",
       "   'total_tokens': 2887}}]"
      ]
     },
     "execution_count": 11,
     "metadata": {},
     "output_type": "execute_result"
    }
   ],
   "execution_count": 11
  },
  {
   "metadata": {
    "ExecuteTime": {
     "end_time": "2024-08-02T08:49:13.209738Z",
     "start_time": "2024-08-02T08:49:13.206116Z"
    }
   },
   "cell_type": "code",
   "source": "Quant_component_dic",
   "id": "3f3073678d5f12c1",
   "outputs": [
    {
     "data": {
      "text/plain": [
       "{'quant_idea': ['在对话中，说话人1询问了关于量化策略的因子挖掘方式，说话人3回答说：“目前大部分都是手工挖掘出来的，然后有一位同事现在正在做机器学习的那部分的。” 这表明该公司在量化策略的因子挖掘上，主要是以手工挖掘为主，但也在探索使用机器学习方法。此外，说话人1还问到因子是否有逻辑性，说话人3确认说：“对，明白。我们目前的话，我们因子都是有逻辑的因子。” 这说明该公司在量化策略中对因子的可解释性有一定的要求。'],\n",
       " 'factor_composition': ['管理人的策略中，因子组成包括基本面因子占比40%，另类因子占比10%，量价因子占比50%。至于因子的总数，文档中提到“具体的个数我们没去统计，可能三五十个因子应该是有的”。'],\n",
       " 'factor_explanation': ['在提供的文本中，管理人对其不同因子类型的解释主要涉及以下几个方面：\\n\\n1. 因子的构成：管理人提到他们的量化模型主要基于三类因子，分别是基本面因子（占比40%）、另类因子（占比10%）和量价因子（占比50%）。\\n\\n2. 因子的挖掘：管理人明确表示，目前大部分因子是手工挖掘出来的，但有一位同事正在研究机器学习的部分。\\n\\n3. 因子的逻辑性：管理人强调，他们的因子都是有逻辑的，即每个因子都有其背后的逻辑支持。\\n\\n4. 因子的测试与筛选：管理人提到，他们会对因子进行单因子测试，只有通过一定检验的因子，如多空收益和SL等数值达到要求，才会被加入到数据库中。\\n\\n5. 因子的组合与权重调整：管理人解释说，他们会将因子与其他因子结合，考虑其相关性和对组合的贡献，基于历史表现和因子间的相关性来调整不同因子的权重。\\n\\n6. 因子的更新与淘汰：管理人表示，他们会持续跟踪因子的表现，并根据其与历史表现的一致性进行权重调整，如果因子表现不佳，可能会被暂时淘汰，但也有可能在不同市场风格下重新变得有效。\\n\\n7. 数据来源：管理人提到他们使用的量化数据主要来自通联，而不是同花顺，尽管同花顺的数据基于Level-1数据，但他们发现同花顺的另类数据对他们的策略增强效果一般。\\n\\n这些信息提供了对管理人如何基于不同数据得出其量化模型中不同因子的详细解释。'],\n",
       " 'model_explanation': ['在提供的对话记录中，管理人讨论了他们的建模方法和使用的算法。以下是相关信息的提取和总结：\\n\\n1. **建模方法论**：\\n   - 管理人提到他们的量化模型主要基于三类因子：基本面（40%）、另类（10%）和量价（50%）。这表明他们的模型在因子选择上有一定的偏好和权重分配。\\n   - 在因子的挖掘上，管理人表示目前大部分因子是手工挖掘出来的，但有一位同事正在做机器学习的部分。这表明他们的建模方法结合了传统的手工挖掘和机器学习技术。\\n\\n2. **使用的算法和用途**：\\n   - 管理人提到使用机器学习算法主要是为了预测不同子策略的表现，并据此调整策略权重。具体来说，他们会根据过去一段时间的表现，预测未来一周各策略的表现，并据此调整。\\n   - 他们还提到了使用T0增强，这是一种利用第三方服务来增强交易策略的方法，但具体的算法细节没有在对话中提及。\\n\\n3. **偏好**：\\n   - 尽管管理人使用了机器学习算法，但他们的建模方法似乎更倾向于手工挖掘因子，这可能是因为他们认为这样可以获得更有逻辑的因子。\\n\\n4. **因子的测试和选择**：\\n   - 管理人会先进行单因子测试，确保因子在多空收益、SL等指标上满足一定要求后，才会将其加入数据库。\\n   - 之后，他们会考虑因子之间的相关性以及对整个组合的贡献，决定是否将其加入实盘策略。\\n\\n5. **因子权重的调整**：\\n   - 因子的权重会根据历史表现和因子之间的相关性进行调整。如果两个因子相关性很高，可能会降低第二个因子的权重。\\n\\n6. **模型的迭代和更新**：\\n   - 管理人表示他们会每天都在做模型的迭代，如果新的因子表现更好，就会不断去完善模型。\\n\\n7. **舆情系统的使用**：\\n   - 虽然他们开发了一个舆情系统来抓取不同平台的信息，但目前这个系统并没有用到实盘策略中，而是用于总结日频的驱动因素。\\n\\n8. **风控和持仓管理**：\\n   - 管理人在风控和持仓方面会跟踪行业偏离度和风格因子的偏离，并进行一定限制。他们还会考虑基差的管理，并有T0交易的增强。\\n\\n通过上述信息，我们可以看出管理人的建模方法是一个结合了传统手工因子挖掘和机器学习预测的混合模型。他们偏好于基本面因子，并在模型中给予较高的权重，同时也在探索和应用机器学习技术来优化策略表现。'],\n",
       " 'factor_update': ['管理人的新因子入库条件包括以下几点：\\n\\n1. 模拟盘观察时间：新因子如果是高频率的，可能在模拟盘中观察两到三个月；如果是低频率的，如基本面因子，可能需要模拟半年左右的时间。\\n\\n2. 衡量指标：虽然原文中没有明确提到夏普比率（Sharpe Ratio）或ICIR（Information Coefficient and Information Ratio）等具体指标，但提到了会对新因子进行单因子测试，检验其多空收益、SL等数值，并与历史表现进行比较。\\n\\n3. 其他措施：如果新因子在模拟盘中表现良好，可能会被加入实盘策略；如果表现一般，则可能仅作为储备因子放入因子库中。此外，管理人会持续跟踪因子的表现，并根据市场风格的变化对因子权重进行调整。如果因子表现不佳，会进行相应的调整，但不会完全放弃使用，因为不同市场风格下，某些因子可能会重新变得有效。\\n\\n以上信息均直接提取自提供的文本内容，未进行任何编造或添加。'],\n",
       " 'strategy_execution': ['根据提供的文件内容，以下是关于管理人的具体操作的相关信息：\\n\\n1. **使用自研/外部的下单算法**：\\n   - 交易系统使用的是悦然的系统，并且在该系统中进行了T0增强，采用的是第三方的T0增强服务。\\n\\n2. **不同策略的持股数**：\\n   - 管理人提到，他们主要持有200~300只股票，而一个产品可能会持有大约500支股票。\\n\\n3. **年化双边换手率**：\\n   - 年化换手率大概是60~80倍，这个数字不包括T0交易部分。\\n\\n4. **行业偏离度**：\\n   - 行业偏离度会进行跟踪，具体的偏离度大概是5%~10%。\\n\\n5. **风格偏离度**：\\n   - 风格因子的偏离度会控制在相对于基准的15%左右。\\n\\n6. **资金来源**：\\n   - 主要资金来源是自有资金，其中大部分是公司自有资金。\\n\\n7. **股权激励措施**：\\n   - 目前还没有为研究员实施股权激励措施，主要依赖业绩提升。\\n\\n8. **产品规模和资金容量**：\\n   - 目前总体规模是两个多亿，其中指数增强产品占比大约70%。资金容量方面，管理人认为10~20亿的规模不会存在问题，且收益不会衰减。\\n\\n9. **因子贡献**：\\n   - 最近三年数据显示，盈利、价值和股息率三个因子对整体收益的贡献较多，市值、流动性和波动率也有一定的贡献。\\n\\n10. **调仓频率**：\\n    - 虽然每天都有调仓，但大比例调仓的频率可能是一个月一次。\\n\\n11. **风险控制**：\\n    - 个股权重最大不超过2%，并且会跟踪行业偏离度和风格因子的偏离，进行一定限制。\\n\\n12. **舆情系统**：\\n    - 有一个自研的舆情系统，用于抓取不同平台的信息，但目前尚未用到实盘策略中。\\n\\n13. **对冲工具**：\\n    - 使用IC（股指期货）作为对冲工具，并且在建仓时会考虑基差。\\n\\n14. **因子库和因子调整**：\\n    - 因子库中可能有三五十个因子，实盘中使用的因子会经过单因子测试，并与其他因子结合考虑。因子的权重会基于历史表现和因子间的相关性进行调整。失效的因子可能会被保留，因为不同市场风格下可能会重新有效。因子的调整是持续的过程，可能每天进行，具体调整频率不确定。\\n\\n15. **新因子的模拟和实盘应用**：\\n    - 新因子的模拟盘测试时间取决于因子类型，高频因子可能需要两三个月，而低频因子可能需要更长时间，甚至半年。\\n\\n16. **数据来源**：\\n    - 不使用同花顺数据，而是使用通联等其他数据源。\\n\\n这些信息提供了管理人在量化交易策略、风险控制、资金管理等方面的具体操作细节。']}"
      ]
     },
     "execution_count": 14,
     "metadata": {},
     "output_type": "execute_result"
    }
   ],
   "execution_count": 14
  },
  {
   "metadata": {
    "ExecuteTime": {
     "end_time": "2024-08-02T08:21:16.337763Z",
     "start_time": "2024-08-02T08:21:16.335132Z"
    }
   },
   "cell_type": "code",
   "source": "cost_list",
   "id": "516d7aa60fc1d38b",
   "outputs": [
    {
     "data": {
      "text/plain": [
       "[{'total_cost': 0.37473600000000007,\n",
       "  'moonshot-v1-8k': {'cost': 0.37473600000000007,\n",
       "   'prompt_tokens': 29936,\n",
       "   'completion_tokens': 1292,\n",
       "   'total_tokens': 31228}},\n",
       " {'total_cost': 0.1404,\n",
       "  'qwen-max': {'cost': 0.1404,\n",
       "   'prompt_tokens': 1923,\n",
       "   'completion_tokens': 529,\n",
       "   'total_tokens': 2452}}]"
      ]
     },
     "execution_count": 36,
     "metadata": {},
     "output_type": "execute_result"
    }
   ],
   "execution_count": 36
  },
  {
   "metadata": {
    "ExecuteTime": {
     "end_time": "2024-08-02T08:52:10.805923Z",
     "start_time": "2024-08-02T08:52:10.745721Z"
    }
   },
   "cell_type": "code",
   "source": [
    "extraction_assistant = ConversableAgent(\n",
    "        name = \"信息提取员\",\n",
    "        system_message = \"你是一个信息提取员，任务是将我需要的信息，从我给你的一大段文字中提取出来，并返回给我\",\n",
    "        llm_config = LLM_configs.kimi_weak_llm_config\n",
    "    )"
   ],
   "id": "6ad30d8fde60260b",
   "outputs": [],
   "execution_count": 16
  },
  {
   "metadata": {
    "ExecuteTime": {
     "end_time": "2024-08-02T08:53:21.702099Z",
     "start_time": "2024-08-02T08:53:07.915940Z"
    }
   },
   "cell_type": "code",
   "source": [
    "extraction_assistant.generate_reply(messages=[{\"content\": text, \"role\":\"system\"},\n",
    "                                                      {\"content\": \"从文件中提取出管理人的建模方法，需要明确提示是线性还是机器学习模型或者是两者都有及其偏好。其中线性模型包括：排序打分和简单回归，详述他们的建模方法论, 并提取出他们使用了的算法和用途。不要把因子挖掘的部分写进去，只需要说建模\", \"role\": \"user\"}])"
   ],
   "id": "cda59992d947536a",
   "outputs": [
    {
     "name": "stdout",
     "output_type": "stream",
     "text": [
      "\u001B[31m\n",
      ">>>>>>>> USING AUTO REPLY...\u001B[0m\n"
     ]
    },
    {
     "data": {
      "text/plain": [
       "'根据文件内容，管理人的建模方法包括线性模型和机器学习模型。以下是详细的建模方法论和使用的算法及其用途：\\n\\n1. **线性模型**：\\n   - **排序打分**：管理人使用线性模型对股票进行排序打分。在单因子测试中，如果因子满足一定的检验标准（如多空收益、SL等数值），则将其放入数据库。之后，结合其他因子，考虑其相关性和对组合的贡献，最终形成实盘策略。不同的因子在排序打分时具有不同的权重，这些权重基于因子的历史表现和因子之间的相关性进行调整。\\n\\n2. **机器学习模型**：\\n   - 管理人使用机器学习模型来预测不同子策略的表现，并据此调整策略权重。具体来说，机器学习用于分析多个策略在一段时间内的表现，以预测未来一周各策略的表现，并据此调整权重。\\n   - 管理人还提到了使用机器学习来处理因子，尽管大部分因子目前是手工挖掘的，但有同事正在研究机器学习在因子挖掘方面的应用。\\n\\n3. **算法和用途**：\\n   - **机器学习算法**：用于预测策略表现和可能的权重调整。具体算法未在文档中提及，但提到了使用第三方的机器学习服务。\\n   - **T0增强**：采用第三方提供的T0增强服务，这可能涉及到高频信号转换成低频信号的处理，以及日频的调仓决策。\\n\\n4. **偏好**：\\n   - 管理人目前主要使用线性模型进行因子的排序打分，但也在探索机器学习模型的应用，特别是在策略预测和权重调整方面。这表明管理人在建模方法上持开放态度，愿意结合传统线性模型和新兴的机器学习技术。\\n\\n总结来说，管理人的建模方法结合了线性模型和机器学习模型，以实现更精准的策略预测和权重调整。他们使用排序打分进行股票评估，同时利用机器学习算法来优化策略表现和调整策略权重。'"
      ]
     },
     "execution_count": 18,
     "metadata": {},
     "output_type": "execute_result"
    }
   ],
   "execution_count": 18
  },
  {
   "metadata": {
    "ExecuteTime": {
     "end_time": "2024-08-02T08:30:23.656581Z",
     "start_time": "2024-08-02T08:30:23.600525Z"
    }
   },
   "cell_type": "code",
   "source": [
    "integrate_assistant = ConversableAgent(\n",
    "        name=\"报告撰写员\",\n",
    "        system_message=f\"你是一个报告撰写员，需要根据我发给你的字段，根据我的要求，详细的写出一份报告，并返回给我,以下是要求：不需要面面俱到，写出提供材料中包含的即可：{Prompt_dics.Strategy_requirements_dic['Simple Quant Strategy']}\",\n",
    "        llm_config = LLM_configs.Qwen_strong_llm_config\n",
    "    )"
   ],
   "id": "91438e91af324987",
   "outputs": [],
   "execution_count": 42
  },
  {
   "metadata": {
    "ExecuteTime": {
     "end_time": "2024-08-02T08:40:35.203562Z",
     "start_time": "2024-08-02T08:40:35.200391Z"
    }
   },
   "cell_type": "code",
   "source": "print(Prompt_dics.Strategy_requirements_dic['Simple Quant Strategy'])",
   "id": "7583cdf77bd28069",
   "outputs": [
    {
     "name": "stdout",
     "output_type": "stream",
     "text": [
      "以下是量化策略的模板，以下内容都需要在段落中进行体现, 管理人的量化模型和因子上需要写详细一些：1. 管理⼈量化策略的整体思路，这部分主要说明管理人的量化策略的核心思路2. 管理⼈的因⼦组成百分比和因子的总数量, 以及管理人对对应因子的描述。3. 管理⼈的因⼦挖掘⽅法, 具体需要判断是人工手工挖掘，还是使用了机器学习，并详述他们用到的算法和方法论4. 管理⼈的因⼦处理⽅法, 具体需要判断其对因子的合成方法，处理方法等（如有），并详述他们用到的算法和方法论5. 管理⼈的量化模型，需要明确提示是线性还是机器学习模型或者是两者都有及其偏好。并详述他们的建模方法论，包括使用了何种模型，方法或算法进行了何种任务6. 管理⼈的因⼦⼊库条件, 即管理人的新因子入库标准和流程 7. 管理⼈的具体执⾏, 对股票进行了什么处理，有无使用算法下单等，最终持有了多少个股，指数内占比，行业偏离度，风格偏离度，年化双边换手率多少倍。8. 管理⼈的对冲⽅法（如有）， 使⽤什么进⾏对冲, 有⽆敞⼝\n"
     ]
    }
   ],
   "execution_count": 13
  },
  {
   "metadata": {},
   "cell_type": "code",
   "outputs": [],
   "execution_count": null,
   "source": "",
   "id": "6d3f559afb810f1b"
  }
 ],
 "metadata": {
  "kernelspec": {
   "display_name": "Python 3",
   "language": "python",
   "name": "python3"
  },
  "language_info": {
   "codemirror_mode": {
    "name": "ipython",
    "version": 2
   },
   "file_extension": ".py",
   "mimetype": "text/x-python",
   "name": "python",
   "nbconvert_exporter": "python",
   "pygments_lexer": "ipython2",
   "version": "2.7.6"
  }
 },
 "nbformat": 4,
 "nbformat_minor": 5
}
