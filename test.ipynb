{
 "cells": [
  {
   "cell_type": "code",
   "id": "initial_id",
   "metadata": {
    "collapsed": true,
    "ExecuteTime": {
     "end_time": "2024-08-06T14:48:23.544307Z",
     "start_time": "2024-08-06T14:48:22.552501Z"
    }
   },
   "source": [
    "from autogen import ConversableAgent\n",
    "from openai import OpenAI\n",
    "from pathlib import Path\n",
    "\n",
    "import LLM_configs\n",
    "import Prompt_dics\n",
    "from LLM_configs import *\n",
    "from Agents import *\n",
    "from tools import *"
   ],
   "outputs": [],
   "execution_count": 1
  },
  {
   "cell_type": "code",
   "source": [
    "# 加载 .env 文件\n",
    "load_dotenv()"
   ],
   "metadata": {
    "collapsed": false,
    "ExecuteTime": {
     "end_time": "2024-08-06T14:48:24.132213Z",
     "start_time": "2024-08-06T14:48:24.127471Z"
    }
   },
   "id": "5e7b0130d26455f6",
   "outputs": [
    {
     "data": {
      "text/plain": [
       "True"
      ]
     },
     "execution_count": 2,
     "metadata": {},
     "output_type": "execute_result"
    }
   ],
   "execution_count": 2
  },
  {
   "metadata": {},
   "cell_type": "markdown",
   "source": [
    "## 文件提取"
   ],
   "id": "dceb703782234c63"
  },
  {
   "metadata": {
    "ExecuteTime": {
     "end_time": "2024-08-07T02:53:12.673899Z",
     "start_time": "2024-08-07T02:53:11.821802Z"
    }
   },
   "cell_type": "code",
   "source": "text = file_extraction(\"test files/前海知行7月实地.m4a-文稿-转写结果.docx\")",
   "id": "6b72c8d771291814",
   "outputs": [],
   "execution_count": 15
  },
  {
   "cell_type": "code",
   "source": [
    "PPT = file_extraction(\"test files/上海象上投资.pptx\")"
   ],
   "metadata": {
    "collapsed": false,
    "ExecuteTime": {
     "end_time": "2024-08-06T14:48:26.826575Z",
     "start_time": "2024-08-06T14:48:25.895972Z"
    }
   },
   "id": "41fe22128481ab7e",
   "outputs": [],
   "execution_count": 4
  },
  {
   "metadata": {},
   "cell_type": "markdown",
   "source": [
    "## Agent设计"
   ],
   "id": "c62c5036c7e2dc36"
  },
  {
   "metadata": {
    "ExecuteTime": {
     "end_time": "2024-08-07T02:53:15.690924Z",
     "start_time": "2024-08-07T02:53:15.688665Z"
    }
   },
   "cell_type": "code",
   "source": [
    "quant_dict = {\n",
    "    'quant_idea':[],\n",
    "    'factor_composition':[],\n",
    "    'factor_explanation':[],\n",
    "    'model_explanation':[],\n",
    "    'factor_update':[],\n",
    "    'strategy_execution':[]\n",
    "}"
   ],
   "id": "d087e9c10b4f1520",
   "outputs": [],
   "execution_count": 16
  },
  {
   "metadata": {
    "ExecuteTime": {
     "end_time": "2024-08-07T02:53:16.280257Z",
     "start_time": "2024-08-07T02:53:16.278076Z"
    }
   },
   "cell_type": "code",
   "source": "market_neutral = fill_placeholders(['中证500指增', '股指期货','0%'], Prompt_dics.Other_prompt_dic['中性多头/对冲端'])",
   "id": "e9957fa0147f5c07",
   "outputs": [],
   "execution_count": 17
  },
  {
   "metadata": {
    "ExecuteTime": {
     "end_time": "2024-08-07T02:53:34.931847Z",
     "start_time": "2024-08-07T02:53:34.929927Z"
    }
   },
   "cell_type": "code",
   "source": "market_neutral = ''",
   "id": "33366c92c05e1bd8",
   "outputs": [],
   "execution_count": 19
  },
  {
   "metadata": {
    "ExecuteTime": {
     "end_time": "2024-08-07T02:53:36.027161Z",
     "start_time": "2024-08-07T02:53:36.021428Z"
    }
   },
   "cell_type": "code",
   "source": [
    "def report_writing(weak_config, strong_config,prompts,component_dict, requirements, updating):\n",
    "    extraction_agent = extraction_assistant(weak_config)\n",
    "    \n",
    "    integrate_agent = integrate_assistant(strong_config,requirements)\n",
    "    \n",
    "    for prompt, component in zip(prompts, list(component_dict.keys())):\n",
    "        reply = extraction_agent.generate_reply(messages=[{\"content\": text, \"role\":\"system\"},\n",
    "                                                      {\"content\": prompt, \"role\": \"user\"}])\n",
    "        component_dict[component].append(reply)\n",
    "    \n",
    "    component_dict['hedging tools'] = market_neutral\n",
    "    \n",
    "    final_report = integrate_agent.generate_reply(messages=[{\"content\": str(component_dict), \"role\": \"system\"},\n",
    "                                                                {\n",
    "                                                                    \"content\": \"按需求生成报告，不要分段，写成一整段，要求逻辑清晰，细节完整，长度越长越好，但不要有过多的你自由发挥的解释，客观记录为主, 不要出现评价语言，例如“这体现了XXXX\",\n",
    "                                                                    \"role\": \"user\"}])\n",
    "    non_updating_report = final_report\n",
    "    \n",
    "    if updating:\n",
    "        old_report_relevant_part = input(\"请把上一篇报告的配置逻辑部分复制到此处\")\n",
    "        final_report = integrate_agent.generate_reply(messages=[{\"content\": \"旧报告: \"+old_report_relevant_part+\"新报告:\"+str(final_report), \"role\": \"system\"},\n",
    "                                                                {\"content\": \"你是一个报告审查和撰写专员，现在你有一篇旧报告和一篇新报告，你要做的是在旧报告的基础上，判断新报告中的增量信息，并将新报告中的增量信息与旧报告中的现有信息相结合，完成一篇更新的报告，如果两个报告中对某一个地方有冲突，则以新报告为准。\", \"role\": \"system\"},\n",
    "                                                                {\n",
    "                                                                    \"content\": \"按需求生成报告，不要分段，写成一整段，要求逻辑清晰，细节完整.长度越长越好，但不要有过多的你自由发挥的解释，客观记录为主, 不要出现评价语言，例如“这体现了XXXX\",\n",
    "                                                                    \"role\": \"user\"}])\n",
    "    \n",
    "    cost_list = [extraction_agent.get_total_usage(),integrate_agent.get_total_usage()]\n",
    "    \n",
    "    return final_report,non_updating_report, component_dict, cost_list"
   ],
   "id": "c63d89bdd630bb1a",
   "outputs": [],
   "execution_count": 20
  },
  {
   "metadata": {
    "ExecuteTime": {
     "end_time": "2024-08-07T02:57:13.736525Z",
     "start_time": "2024-08-07T02:53:41.603730Z"
    }
   },
   "cell_type": "code",
   "source": "Ali_report,first_Ali_report, Quant_component_dic, cost_list = report_writing(LLM_configs.Qwen_weak_llm_config, LLM_configs.Qwen_strong_llm_config, Prompt_dics.Strategy_prompt_dic['Simple Quant Strategy'],quant_dict, Prompt_dics.Strategy_requirements_dic['Simple Quant Strategy'],True)",
   "id": "68550a60fd26755f",
   "outputs": [
    {
     "name": "stdout",
     "output_type": "stream",
     "text": [
      "\u001B[31m\n",
      ">>>>>>>> USING AUTO REPLY...\u001B[0m\n",
      "\u001B[31m\n",
      ">>>>>>>> USING AUTO REPLY...\u001B[0m\n",
      "\u001B[31m\n",
      ">>>>>>>> USING AUTO REPLY...\u001B[0m\n",
      "\u001B[31m\n",
      ">>>>>>>> USING AUTO REPLY...\u001B[0m\n",
      "\u001B[31m\n",
      ">>>>>>>> USING AUTO REPLY...\u001B[0m\n",
      "\u001B[31m\n",
      ">>>>>>>> USING AUTO REPLY...\u001B[0m\n",
      "\u001B[31m\n",
      ">>>>>>>> USING AUTO REPLY...\u001B[0m\n",
      "\u001B[31m\n",
      ">>>>>>>> USING AUTO REPLY...\u001B[0m\n"
     ]
    }
   ],
   "execution_count": 21
  },
  {
   "metadata": {
    "ExecuteTime": {
     "end_time": "2024-08-07T02:57:13.739347Z",
     "start_time": "2024-08-07T02:57:13.736525Z"
    }
   },
   "cell_type": "code",
   "source": "print(Ali_report)",
   "id": "d71d79e048008e01",
   "outputs": [
    {
     "name": "stdout",
     "output_type": "stream",
     "text": [
      "管理人的量化策略整体框架基于强逻辑性和高可解释性的原则，侧重于人工精选因子与线性模型的应用，旨在确保策略的透明度与可控性。策略核心围绕着约2000个量价因子构建，经过严格筛选，实际投入使用的因子数量约为300个，其中包括250个隔日因子、200个实盘因子以及50个日内因子，所有因子均为量价类型。尽管策略中未直接实盘运行基本面因子和另类因子，但策略设计时已考虑这些因子对策略收益的潜在贡献，并在风险管理环节融入了如市盈率PE等基本面因子，以增强策略的全面性与稳定性。\n",
      "\n",
      "因子挖掘与筛选过程高度依赖人工智慧，通过深入市场逻辑分析，确保因子的可持续性和逻辑合理性，相较于自动化机器学习方法，人工挖掘更注重因子的长期稳定性和可解释性。在因子处理与合成方面，管理人采用线性模型作为主要框架，如排序打分和简单线性回归，这些模型不仅易于理解与调整，而且在因子表现异动时能够迅速识别并应对。尽管新报告未详尽阐述新因子的入库标准，但从策略执行的严谨性来看，管理人显然有一套完善的因子评估与纳入机制，包括基于IC、t-value值、相关性等指标的绩效计算，每周五例行进行。\n",
      "\n",
      "在具体执行层面，管理人对股票池进行了细致的处理，初始剔除了市值极端（大于1000亿或小于30亿）、股价过低、PB过高、PE为负以及日成交额不足3000万的股票，随后根据指数行业权重构建股池，每月调整。这一过程确保了投资组合的市场适应性和流动性。值得注意的是，策略在2023年底经历了一次重要迭代，针对模型低配高波动股票的问题，新增了波动率因子至风控模型中，以期与指数波动率保持一致，从而捕捉更多高波动股票的投资机会。迭代后的回测数据显示，虽然短期内（如2023年7月至11月）策略表现得以提升，追上了市场同类私募，但长期年化收益率预计会有所下降，大约每年减少1%。\n",
      "\n",
      "风险管理方面，管理人严格控制行业偏离度在申万一级行业分类标准下的2%以内，同时确保Barra风格因子暴露不超过0.5个标准差，有效降低了非系统性风险。持股数量方面，500指增策略调整为持有500-600只股票，而1000指增策略的持股数量信息未更新，但旧报告中提到700-800只。年化双边换手率调整为更加保守的15%左右，显著低于旧报告中的60-100倍，显示了管理人在交易成本控制上的优化。\n",
      "\n",
      "关于对冲策略，知行稳健1号采取市场中性策略，500指增与1000指增分别占30%与70%的比重，空头端利用相应股指期货进行对冲，基差成为关键的换仓信号，当基差处于不利位置时会暂时清仓，待条件有利时再行建仓，如2024年1月17日的大幅贴水即触发了中性产品的清仓操作。这一动态调整机制进一步强化了策略的灵活性与市场适应能力。\n"
     ]
    }
   ],
   "execution_count": 22
  },
  {
   "metadata": {
    "ExecuteTime": {
     "end_time": "2024-08-07T02:57:13.751178Z",
     "start_time": "2024-08-07T02:57:13.739347Z"
    }
   },
   "cell_type": "code",
   "source": "print(first_Ali_report)",
   "id": "1f57306ed155ce15",
   "outputs": [
    {
     "name": "stdout",
     "output_type": "stream",
     "text": [
      "管理人的量化策略整体倾向于强逻辑和高可解释性，避免过度依赖机器学习的暴力挖掘，注重因子的市场逻辑和可解释性。策略核心围绕人工精选因子，偏好线性模型以确保策略的透明度和可控性。策略中包含约2000个量价类因子，实际生产使用的约为300个，其中量价因子占据主导，同时融入基本面因子（如市盈率PE）进行风险管理，虽未详述另类因子，但显示策略考虑了多维度市场影响因素。因子挖掘主要依靠人工，强调因子的持续性和逻辑性，相比自动化的批量生成，人工挖掘的因子展现出更好的持续性。模型构建上，管理人偏好使用线性模型，如排序打分和简单回归，这些方法便于理解和调整，特别是在因子表现反转时能快速定位问题。尽管未明确新因子入库的具体条件，但策略执行层面显示了严谨的操作流程，包括使用自研及考虑引入外部下单算法，持股数量由过去的700-800只调整至500-600只以强化风险控制，年化双边换手率维持在15%左右，行业偏离度控制在2%以内，风格偏离度严格管理，如贝塔偏离度不超过0.5，且对Barra风格因子实施严格控制。风险管理还包括剔除低市值股票及利用PE比率等因子进行风险调节。策略调整灵活，依据市场动态调整持股数量、市值门槛，并适时加入新的风险控制因子。整个策略执行过程中，管理人展现了对模型优化的重视，通过因子归因分析和定期回溯检验来确保策略的有效性。至于对冲方法，当前提供的信息未包含具体对冲工具或策略的使用情况。\n"
     ]
    }
   ],
   "execution_count": 23
  },
  {
   "metadata": {
    "ExecuteTime": {
     "end_time": "2024-08-07T02:57:13.758845Z",
     "start_time": "2024-08-07T02:57:13.751178Z"
    }
   },
   "cell_type": "code",
   "source": "cost_list",
   "id": "827b02c2848fc5af",
   "outputs": [
    {
     "data": {
      "text/plain": [
       "[{'total_cost': 0.37469199999999997,\n",
       "  'qwen-plus': {'cost': 0.37469199999999997,\n",
       "   'prompt_tokens': 89275,\n",
       "   'completion_tokens': 1466,\n",
       "   'total_tokens': 90741}},\n",
       " {'total_cost': 0.27296,\n",
       "  'qwen-max': {'cost': 0.27296,\n",
       "   'prompt_tokens': 3503,\n",
       "   'completion_tokens': 1107,\n",
       "   'total_tokens': 4610}}]"
      ]
     },
     "execution_count": 24,
     "metadata": {},
     "output_type": "execute_result"
    }
   ],
   "execution_count": 24
  },
  {
   "metadata": {
    "ExecuteTime": {
     "end_time": "2024-08-07T02:57:13.765292Z",
     "start_time": "2024-08-07T02:57:13.758845Z"
    }
   },
   "cell_type": "code",
   "source": "Quant_component_dic",
   "id": "3f3073678d5f12c1",
   "outputs": [
    {
     "data": {
      "text/plain": [
       "{'quant_idea': ['管理人的量化策略整体上偏向于强逻辑和可解释性，而不是依赖暴力挖掘或大量使用机器学习方法。策略制定过程中注重因子的逻辑性和可解释性，这意味着在构建模型时，更侧重于理解市场行为背后的逻辑，并确保所使用的因子能够被清晰解释，而非仅仅依赖于数据挖掘得到的结果。\\n\\n这种方法论体现在以下几个方面：\\n1. **因子挖掘**：采用人工挖掘为主的方式，强调因子的持续性和市场逻辑，而非大规模自动化挖掘。\\n2. **模型构建**：偏好线性模型，这类模型更容易理解和调整，尤其是在因子反转等异常情况出现时，能够更好地分析和解决问题。\\n3. **风险管理**：在风险管理方面，采取严格的控制措施，如市值、行业偏差等方面的限制，以减少潜在风险。\\n4. **策略调整**：策略调整基于市场变化和风险因子的动态评估，而非简单的模型优化或参数调整。\\n\\n整体而言，该策略倾向于稳健和可控的方法，重视策略的逻辑清晰性和风险控制的有效性。'],\n",
       " 'factor_composition': ['管理人的策略中因子的具体情况如下：\\n\\n- 因子总数：量价类因子大约有2000个。\\n- 生产中的因子数量：约300个。\\n- 因子构成：\\n  - 量价类因子占主导地位。\\n  - 基本面因子也被纳入考量，尤其是在风险管理方面，例如对PE（市盈率）的控制。\\n  - 另类因子的使用情况未详细说明，但从对话中可以看出，管理人团队不仅依赖传统的量价和技术分析，还考虑了基本面因素和其他可能影响市场的新因素。\\n\\n总体而言，量价类因子构成了因子库的主要部分，而基本面和其他类型的因子则作为补充，用于风险管理和策略优化。'],\n",
       " 'factor_explanation': ['根据提供的信息，管理人提到了几种不同的因子类型及其来源，具体如下：\\n\\n- **量价因子**：这部分因子主要基于量价数据进行挖掘。管理人提到量价因子随着时间的推移变得越来越难以挖掘有效因子，时效性较快。\\n- **基本面因子**：例如 PE（市盈率）因子，管理人在 5 月份之后将其加入到了优化器中作为一种风险控制手段。此外，还提到了现金流因子，虽然在过去可能不是一个很强的风险控制因子，但在特定情况下可能会发挥作用。\\n- **订单流因子**：这类因子在成交量下降的过程中表现较差。\\n- **技术指标**：管理人提到，通过传统的量价分析很难直接挖掘出像红利这样的因子，因为这类因子往往与价格趋势和技术指标相关联。\\n\\n管理人还提到，人工挖掘的因子相较于批量生成的因子具有更好的持续性，因为它们可能反映了市场的内在逻辑。\\n\\n综上所述，管理人使用的因子主要包括量价因子、基本面因子（如 PE 因子）、订单流因子以及技术指标相关的因子。这些因子基于量价数据、财务数据（如 PE 和现金流）以及市场交易数据（订单流）等信息得出。'],\n",
       " 'model_explanation': ['根据提供的信息，管理人在构建模型时偏好使用线性模型，并且倾向于采用更加直观和易于调整的方式来进行风险管理与策略优化。以下是关于其建模方法的具体提炼：\\n\\n### 建模偏好\\n- **偏好类型**：管理人偏好使用线性模型而非复杂的机器学习模型，如神经网络。\\n- **原因**：线性模型更容易理解和调整，尤其是在因子反转等复杂情况出现时，能够更清晰地识别问题所在并进行相应的调整。\\n\\n### 具体建模方法\\n- **线性模型应用**：\\n  - 管理人使用的线性模型主要包括排序打分和简单回归两种方法。\\n  - **排序打分**：用于因子筛选和组合构建，通过对因子进行评分排序来确定股票的权重或是否纳入投资组合。\\n  - **简单回归**：用于预测因子与股票收益之间的关系，通过简单的线性回归分析来评估因子的有效性和预测能力。\\n\\n### 使用的算法及用途\\n- **排序打分**：用于因子筛选和组合构建，通过对因子进行评分排序来确定股票的权重或是否纳入投资组合。\\n- **简单回归**：用于预测因子与股票收益之间的关系，通过简单的线性回归分析来评估因子的有效性和预测能力。\\n\\n### 特别注意\\n- 管理人强调了模型的透明度和可解释性的重要性，这表明他们更倾向于使用易于理解和调整的模型结构。\\n- 在模型调整过程中，管理人会定期检查因子的有效性，并根据市场变化进行适时调整，以确保模型能够适应不同的市场环境。\\n\\n综上所述，管理人在构建模型时主要依赖线性模型，特别是排序打分和简单回归方法，这些方法因其直观性和易于调整的特点而被优先选用。'],\n",
       " 'factor_update': ['根据提供的信息，没有明确提到关于新因子入库的具体条件，包括模拟盘观察时间、衡量指标如夏普比率、ICIR等以及其他具体措施。信息中讨论了因子的开发、使用和调整，但没有详细说明新因子入库的标准或流程。\\n\\n因此，基于所提供的内容，关于管理人新因子入库条件的信息为“无”。如果有更具体的内容需要提取，请提供进一步的指导或信息。'],\n",
       " 'strategy_execution': ['根据提供的信息，我们可以总结出以下关键点：\\n\\n### 管理人的具体操作\\n\\n1. **下单算法**:\\n   - 目前使用自研的下单算法。\\n   - 正在考虑引入外部算法，如浩鑫的算法，用于补充现有的下单机制。\\n\\n2. **持股数量**:\\n   - 过去持股数量大约在700-800只。\\n   - 最近由于风险控制的加强，持股数量减少至约500-600只。\\n\\n3. **年化双边换手率**:\\n   - 年化双边换手率为15%左右。\\n\\n4. **行业偏离度**:\\n   - 行业偏离度控制在2%以内，偶尔会超过2%-5%。\\n\\n5. **风格偏离度**:\\n   - 风格偏离度控制较为严格，例如贝塔（Beta）偏离度控制在0.5以内。\\n\\n6. **Barra风格因子暴露**:\\n   - 对Barra风格因子的暴露进行了严格的控制，例如对贝塔因子的控制非常严格，以减少风险。\\n\\n### 其他相关信息\\n\\n- **风险管理**:\\n  - 剔除了市值低于40亿的股票，以降低风险。\\n  - 加入了PE比率作为风险控制因子之一，以应对市场变化。\\n\\n- **策略调整**:\\n  - 根据市场情况调整了持股数量和市值门槛。\\n  - 在策略中加入了新的风险控制因子，如PE比率。\\n\\n- **模型优化**:\\n  - 模型优化过程中考虑了因子的归因分析，以确保因子的有效性和可控性。\\n  - 定期进行模型的回溯检验，以评估因子的表现。\\n\\n以上信息提供了关于管理人在下单算法、持股数量、换手率、行业及风格偏离度等方面的详细操作情况。'],\n",
       " 'hedging tools': ''}"
      ]
     },
     "execution_count": 25,
     "metadata": {},
     "output_type": "execute_result"
    }
   ],
   "execution_count": 25
  },
  {
   "metadata": {},
   "cell_type": "code",
   "outputs": [],
   "execution_count": null,
   "source": [
    "def report_updating(weak_config, strong_config,prompts,component_dict, requirements):\n",
    "    "
   ],
   "id": "eb9406a44c961550"
  }
 ],
 "metadata": {
  "kernelspec": {
   "display_name": "Python 3",
   "language": "python",
   "name": "python3"
  },
  "language_info": {
   "codemirror_mode": {
    "name": "ipython",
    "version": 2
   },
   "file_extension": ".py",
   "mimetype": "text/x-python",
   "name": "python",
   "nbconvert_exporter": "python",
   "pygments_lexer": "ipython2",
   "version": "2.7.6"
  }
 },
 "nbformat": 4,
 "nbformat_minor": 5
}
