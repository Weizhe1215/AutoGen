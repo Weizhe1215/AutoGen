{
 "cells": [
  {
   "cell_type": "code",
   "id": "initial_id",
   "metadata": {
    "collapsed": true,
    "ExecuteTime": {
     "end_time": "2024-08-01T01:04:06.974262Z",
     "start_time": "2024-08-01T01:04:06.967802Z"
    }
   },
   "source": [
    "from autogen import ConversableAgent\n",
    "from openai import OpenAI\n",
    "from pathlib import Path\n",
    "from LLM_configs import *\n",
    "from Prompt_dics import *"
   ],
   "outputs": [],
   "execution_count": 12
  },
  {
   "cell_type": "code",
   "source": [
    "# 加载 .env 文件\n",
    "load_dotenv()"
   ],
   "metadata": {
    "collapsed": false,
    "ExecuteTime": {
     "end_time": "2024-07-31T02:33:11.307510Z",
     "start_time": "2024-07-31T02:33:11.303451Z"
    }
   },
   "id": "5e7b0130d26455f6",
   "outputs": [
    {
     "data": {
      "text/plain": [
       "True"
      ]
     },
     "execution_count": 2,
     "metadata": {},
     "output_type": "execute_result"
    }
   ],
   "execution_count": 2
  },
  {
   "metadata": {},
   "cell_type": "markdown",
   "source": [
    "## 文件提取"
   ],
   "id": "dceb703782234c63"
  },
  {
   "metadata": {
    "ExecuteTime": {
     "end_time": "2024-08-01T01:03:22.777735Z",
     "start_time": "2024-08-01T01:03:22.361591Z"
    }
   },
   "cell_type": "code",
   "source": [
    "# Kimi的文件接口\n",
    "client = OpenAI(\n",
    "    api_key = os.environ.get(\"Kimi_API_KEY\"),\n",
    "    base_url = \"https://api.moonshot.cn/v1\",\n",
    ")"
   ],
   "id": "60c8834e0892f93b",
   "outputs": [],
   "execution_count": 7
  },
  {
   "metadata": {
    "ExecuteTime": {
     "end_time": "2024-08-01T01:03:22.780585Z",
     "start_time": "2024-08-01T01:03:22.778241Z"
    }
   },
   "cell_type": "code",
   "source": [
    "# 使用kimi api读取\n",
    "def file_extraction(file_path):\n",
    "    file_object = client.files.create(file=Path(file_path), purpose=\"file-extract\")\n",
    "    file_content = client.files.content(file_id=file_object.id).text\n",
    "    return file_content"
   ],
   "id": "48716538a15776a0",
   "outputs": [],
   "execution_count": 8
  },
  {
   "metadata": {
    "ExecuteTime": {
     "end_time": "2024-08-01T01:03:23.750783Z",
     "start_time": "2024-08-01T01:03:23.279155Z"
    }
   },
   "cell_type": "code",
   "source": "text = file_extraction(\"test files/象上-文稿-转写结果.docx\")",
   "id": "54e93ac2849a936d",
   "outputs": [],
   "execution_count": 9
  },
  {
   "cell_type": "code",
   "source": [
    "PPT = file_extraction(\"test files/上海象上投资.pptx\")"
   ],
   "metadata": {
    "collapsed": false,
    "ExecuteTime": {
     "end_time": "2024-08-01T01:03:25.680550Z",
     "start_time": "2024-08-01T01:03:25.173401Z"
    }
   },
   "id": "41fe22128481ab7e",
   "outputs": [],
   "execution_count": 10
  },
  {
   "metadata": {
    "ExecuteTime": {
     "end_time": "2024-08-01T01:04:25.253625Z",
     "start_time": "2024-08-01T01:04:25.251450Z"
    }
   },
   "cell_type": "code",
   "source": "requirements = Strategy_requirements_dic['Simple Quant Strategy']",
   "id": "d3858450398527",
   "outputs": [],
   "execution_count": 13
  },
  {
   "metadata": {},
   "cell_type": "markdown",
   "source": [
    "## Agent设计"
   ],
   "id": "c62c5036c7e2dc36"
  },
  {
   "cell_type": "code",
   "source": [
    "def report_writing(weak_config, strong_config):\n",
    "    # 定义强弱模型助手\n",
    "    \n",
    "    extraction_assistant = ConversableAgent(\n",
    "        name = \"信息提取员\",\n",
    "        system_message = \"你是一个信息提取员，任务是将我需要的信息，从我给你的一大段文字中提取出来，并返回给我\",\n",
    "        llm_config = weak_config\n",
    "    )\n",
    "    \n",
    "    integrate_assistant = ConversableAgent(\n",
    "        name=\"报告撰写员\",\n",
    "        system_message=f\"你是一个报告撰写员，需要根据我发给你的字段，根据我的要求，详细的写出一份报告，并返回给我,以下是要求：不需要面面俱到，写出提供材料中包含的即可：{requirements}\",\n",
    "        llm_config = strong_config\n",
    "    )\n",
    "    \n",
    "    # 开始分析\n",
    "    quant_idea = extraction_assistant.generate_reply(messages=[{\"content\": text, \"role\":\"system\"},\n",
    "                                                      {\"content\": \"管理⼈量化策略的整体思路, 例如，是偏强逻辑为主, 对因⼦的可解释性有很⾼的要求；还是偏暴力挖掘为主，使用机器学习较多\", \"role\": \"user\"}])\n",
    "    \n",
    "    factor_composition = extraction_assistant.generate_reply(messages=[{\"content\": text, \"role\":\"system\"},\n",
    "                                                      {\"content\": \"从文件中提取出管理人的策略中的因子组成和因子数量,包括量价类,基本面，另类因子占比多少，以及因子的总数\", \"role\": \"user\"}])\n",
    "    \n",
    "    factor_explanation = extraction_assistant.generate_reply(messages=[{\"content\": text, \"role\":\"system\"},\n",
    "\n",
    "                                                      {\"content\": \"从文件中提取出管理人对其不同因子类型的解释（如有），具体来说主要是不同因子是基于哪些数据锝出的，不要编造，只能抽取提供信息中有的内容。如果没有详细说明，则返回无\", \"role\": \"user\"}])\n",
    "    \n",
    "    model_explanation = extraction_assistant.generate_reply(messages=[{\"content\": text, \"role\":\"system\"},\n",
    "                                                      {\"content\": \"从文件中提取出管理人的建模方法，需要明确提示是线性还是机器学习模型或者是两者都有及其偏好，详述他们的建模方法论, 并提取出他们使用了的算法和用途\", \"role\": \"user\"}])\n",
    "    \n",
    "    factor_update = extraction_assistant.generate_reply(messages=[{\"content\": text, \"role\":\"system\"},\n",
    "                                                      {\"content\": \"从文件中提取出管理人的新因子入库条件，例如：会在模拟盘中观察 X ⽉, 因⼦相关性不⾼于XX, 关注 ICIR/夏普等\", \"role\": \"user\"}])\n",
    "    \n",
    "    strategy_excecution= extraction_assistant.generate_reply(messages=[{\"content\": text, \"role\":\"system\"},\n",
    "                                                      {\"content\": \"从文件中提取出管理人的具体操作，例如有无使用自研/外部的下单算法，不同策略的持股数是多少，年化双边换手率多少倍等\", \"role\": \"user\"}])\n",
    "    \n",
    "    # 撰写文章\n",
    "    components_list = [quant_idea, factor_composition, factor_explanation, model_explanation, factor_update,\n",
    "                       strategy_excecution]\n",
    "\n",
    "\n",
    "    final_report = integrate_assistant.generate_reply(messages=[{\"content\": str(components_list), \"role\": \"system\"},\n",
    "                                                                {\n",
    "                                                                    \"content\": \"按需求生成报告，不要分段，写成一整段，要求逻辑清晰，细节完整，长度越长越好，但不要有过多的你自由发挥的解释，客观记录为主, 不要出现评价语言，例如“这体现了XXXX\",\n",
    "                                                                    \"role\": \"user\"}])\n",
    "    cost_list = [extraction_assistant.get_total_usage(),integrate_assistant.get_total_usage()]\n",
    "    \n",
    "    return quant_idea, factor_composition, factor_explanation, model_explanation, factor_update, strategy_excecution,cost_list,final_report\n",
    "    \n",
    "    "
   ],
   "metadata": {
    "collapsed": false,
    "ExecuteTime": {
     "end_time": "2024-08-01T01:04:28.026850Z",
     "start_time": "2024-08-01T01:04:28.022335Z"
    }
   },
   "id": "600aae826ce39196",
   "outputs": [],
   "execution_count": 14
  },
  {
   "metadata": {
    "ExecuteTime": {
     "end_time": "2024-07-31T02:11:36.948456Z",
     "start_time": "2024-07-31T02:11:36.945547Z"
    }
   },
   "cell_type": "code",
   "source": [
    "def report_writing2(weak_config, strong_config):\n",
    "    # 定义强弱模型助手\n",
    "    \n",
    "    extraction_assistant = ConversableAgent(\n",
    "        name = \"信息提取员\",\n",
    "        system_message = \"你是一个信息提取员，任务是将我需要的信息，从我给你的一大段文字中提取出来，并返回给我\",\n",
    "        llm_config = weak_config\n",
    "    )\n",
    "    \n",
    "    integrate_assistant = ConversableAgent(\n",
    "        name=\"报告撰写员\",\n",
    "        system_message=f\"你是一个报告撰写员，需要根据我发给你的字段，根据我的要求，详细的写出一份报告，并返回给我,以下是要求：不需要面面俱到，写出提供材料中包含的即可：{requirements}\",\n",
    "        llm_config = strong_config\n",
    "    )\n",
    "    \n",
    "    # 开始分析\n",
    "    content = extraction_assistant.generate_reply(messages=[{\"content\": text, \"role\":\"system\"},\n",
    "                                                            {\"content\": \"文字需要尽可能的长，每个部分需要包含所有的细节，不能有大量的信息缺失\", \"role\":\"system\"},\n",
    "                                                      {\"content\": \n",
    "                                                           \"1. 管理⼈量化策略的整体思路, 例如，是偏强逻辑为主, 对因⼦的可解释性有很⾼的要求；还是偏暴力挖掘为主，使用机器学习较多。 2.从文件中提取出管理人的策略中的因子组成和因子数量。3. 从文件中提取出管理人对其不同因子类型的解释（如有），具体来说主要是不同因子是基于哪些数据锝出的，不要编造，只能抽取提供信息中有的内容。如果没有详细说明，则返回无。4.从文件中提取出管理人的建模方法，需要明确提示是线性还是机器学习模型或者是两者都有及其偏好，详述他们的建模方法论。若提到算法，需要明确指出使用了什么算法，怎么用的。5.从文件中提取出管理人的新因子入库条件. 6.从文件中提取出管理人的具体操作，例如有无使用自研/外部的下单算法，不同策略的持股数是多少，年化双边换手率多少倍\"\n",
    "                                                           , \"role\": \"user\"}])\n",
    "\n",
    "\n",
    "    final_report = integrate_assistant.generate_reply(messages=[{\"content\": content, \"role\": \"system\"},\n",
    "                                                                {\n",
    "                                                                    \"content\": \"按需求生成报告，不要分段，写成一整段，要求逻辑清晰，细节完整，长度越长越好，但不要有过多的你自由发挥的解释，客观记录为主,不要出现评价语言，例如“这体现了XXXX\",\n",
    "                                                                    \"role\": \"user\"}])\n",
    "    cost_list = [extraction_assistant.get_total_usage(),integrate_assistant.get_total_usage()]\n",
    "    \n",
    "    return content, cost_list,final_report\n",
    "    \n",
    "    "
   ],
   "id": "51a484b41516b6c",
   "outputs": [],
   "execution_count": 75
  },
  {
   "cell_type": "code",
   "source": "quant_idea, factor_composition, factor_explanation, model_explanation, factor_update, strategy_excecution, cost_list, Ali_result =report_writing(Qwen_weak_llm_config,Qwen_strong_llm_config)",
   "metadata": {
    "collapsed": false,
    "ExecuteTime": {
     "end_time": "2024-08-01T08:19:36.994144Z",
     "start_time": "2024-08-01T08:17:57.466688Z"
    }
   },
   "id": "68498966d8fda26d",
   "outputs": [
    {
     "name": "stdout",
     "output_type": "stream",
     "text": [
      "\u001B[31m\n",
      ">>>>>>>> USING AUTO REPLY...\u001B[0m\n",
      "\u001B[31m\n",
      ">>>>>>>> USING AUTO REPLY...\u001B[0m\n",
      "\u001B[31m\n",
      ">>>>>>>> USING AUTO REPLY...\u001B[0m\n",
      "\u001B[31m\n",
      ">>>>>>>> USING AUTO REPLY...\u001B[0m\n",
      "\u001B[31m\n",
      ">>>>>>>> USING AUTO REPLY...\u001B[0m\n",
      "\u001B[31m\n",
      ">>>>>>>> USING AUTO REPLY...\u001B[0m\n",
      "\u001B[31m\n",
      ">>>>>>>> USING AUTO REPLY...\u001B[0m\n"
     ]
    }
   ],
   "execution_count": 19
  },
  {
   "metadata": {
    "ExecuteTime": {
     "end_time": "2024-08-01T01:06:27.912561Z",
     "start_time": "2024-08-01T01:06:27.909510Z"
    }
   },
   "cell_type": "code",
   "source": "factor_explanation",
   "id": "ab895ee2f5d96509",
   "outputs": [
    {
     "data": {
      "text/plain": [
       "'在提供的文本中，管理人对其不同因子类型的解释主要涉及以下几个方面：\\n\\n1. 因子的类型：管理人提到了基本面因子、另类因子和量价因子。其中，基本面因子占比40%，另类因子占比10%，量价因子占比50%。\\n\\n2. 因子的挖掘：管理人表示，他们的因子主要是手工挖掘出来的，并且有一位同事正在做机器学习的部分。\\n\\n3. 因子的逻辑性：管理人强调，他们的因子都是有逻辑的因子。\\n\\n4. 因子的入库条件：管理人提到，在选择因子的过程中，会先进行单因子测试，确保因子在多空收益、夏普比等数值上达到一定要求后，才会将其放入数据库。\\n\\n5. 因子的复权和组合：管理人提到，他们会结合因子的相关性和对组合的贡献，将因子加入到实盘策略中。\\n\\n6. 因子的权重调整：管理人表示，因子的权重会基于历史表现和因子之间的相关性进行调整。\\n\\n7. 因子的出库：管理人提到，他们会持续跟踪因子的表现，并根据其与历史表现的相符性，对因子的权重进行相应的调整。\\n\\n8. 数据来源：管理人提到，他们使用的量化数据主要来自通联，而不是同花顺。\\n\\n9. 舆情系统：管理人提到，他们有一个自己开发的舆情系统，用于抓取不同平台的信息，但目前尚未用到实盘策略中。\\n\\n10. 机器学习的应用：管理人提到，他们使用机器学习主要是为了预测不同子策略的表现，并据此调整权重。\\n\\n这些信息提供了对管理人如何基于不同数据得出因子的一定理解，但并没有详细说明每个因子具体是基于哪些数据得出的。'"
      ]
     },
     "execution_count": 16,
     "metadata": {},
     "output_type": "execute_result"
    }
   ],
   "execution_count": 16
  },
  {
   "cell_type": "code",
   "source": [
    "print(Ali_result)"
   ],
   "metadata": {
    "collapsed": false,
    "ExecuteTime": {
     "end_time": "2024-08-01T08:19:36.997201Z",
     "start_time": "2024-08-01T08:19:36.994144Z"
    }
   },
   "id": "f039141215dca7f1",
   "outputs": [
    {
     "name": "stdout",
     "output_type": "stream",
     "text": [
      "管理人的量化策略整体倾向于逻辑性和可解释性，核心思路在于手工挖掘有效因子并确保其背后逻辑的合理性，同时积极探索机器学习技术以增强策略效能。策略中因子组成百分比如下：基本面因子占40%，另类因子占10%，量价因子占50%，因子库总计约含三五十个因子，实际运用中精选约30个因子。因子挖掘主要依靠手工完成，重视因子的逻辑基础，同时也有一名团队成员致力于将机器学习融入因子发现过程，但目前该方法尚处于研究阶段。\n",
      "\n",
      "因子处理方面，管理人通过严格测试确保因子的有效性，包括多空收益、特定指标检验，并根据因子的历史表现和相互间相关性调整权重。在因子合成与处理中，采用基于历史回溯和相关性分析的方法论，尽管具体算法未详细阐述，但强调了对因子逻辑性和有效性的持续评估。模型构建上，管理人虽偏向于手工挖掘因子构建的线性模型，但也初步涉足机器学习领域，用于预测策略表现和动态调整策略权重，展现了策略灵活性和对技术前沿的开放态度。\n",
      "\n",
      "新因子入库标准严格，需通过单因子测试验证其收益能力，评估与现有因子的相关性以避免冗余，同时在模拟环境中验证其对组合的正面贡献，模拟测试周期依据因子类型从两个月至半年不等。执行层面，管理人采用外部T0增强服务和悦然系统优化交易，每个产品平均持有500只股票，覆盖全市场，年化双边换手率在60至80倍之间，此数据不包含T0交易部分。至于对冲方法，当前信息未直接提及具体的对冲手段或是否有敞口存在，表明管理人可能更侧重于选股策略本身的优化而非依赖对冲机制来控制风险。\n"
     ]
    }
   ],
   "execution_count": 20
  },
  {
   "metadata": {
    "ExecuteTime": {
     "end_time": "2024-08-01T08:12:55.313849Z",
     "start_time": "2024-08-01T08:12:55.311176Z"
    }
   },
   "cell_type": "code",
   "source": "cost_list",
   "id": "4742741ee805232c",
   "outputs": [
    {
     "data": {
      "text/plain": [
       "[{'total_cost': 0.451836,\n",
       "  'moonshot-v1-8k': {'cost': 0.451836,\n",
       "   'prompt_tokens': 35904,\n",
       "   'completion_tokens': 1749,\n",
       "   'total_tokens': 37653}},\n",
       " {'total_cost': 0.14748,\n",
       "  'qwen-max': {'cost': 0.14748,\n",
       "   'prompt_tokens': 2367,\n",
       "   'completion_tokens': 440,\n",
       "   'total_tokens': 2807}}]"
      ]
     },
     "execution_count": 18,
     "metadata": {},
     "output_type": "execute_result"
    }
   ],
   "execution_count": 18
  },
  {
   "metadata": {
    "ExecuteTime": {
     "end_time": "2024-07-30T08:47:59.859863Z",
     "start_time": "2024-07-30T08:47:59.856553Z"
    }
   },
   "cell_type": "code",
   "source": "strategy_excecution",
   "id": "687acc84b595067d",
   "outputs": [
    {
     "data": {
      "text/plain": [
       "'从提供的内容中，可以提取出以下与管理人具体操作相关的信息：\\n\\n### 使用的下单算法\\n- **外部下单算法**: 使用了第三方的T0增强服务。\\n- **具体系统**: 使用悦然的系统来进行T0增强。\\n\\n### 不同策略的持股数\\n- **总持股数**: 每个产品大约持有500只股票。\\n- **持股范围**: 全市场选股。\\n\\n### 年化双边换手率\\n- **换手率**: 60~80倍。\\n- **备注**: 这个换手率不包括T0部分。\\n\\n以上信息概括了管理人在下单算法的选择、不同策略下的持股数量以及年化双边换手率等方面的具体操作。'"
      ]
     },
     "execution_count": 31,
     "metadata": {},
     "output_type": "execute_result"
    }
   ],
   "execution_count": 31
  },
  {
   "metadata": {
    "ExecuteTime": {
     "end_time": "2024-07-31T02:19:30.387111Z",
     "start_time": "2024-07-31T02:18:42.107857Z"
    }
   },
   "cell_type": "code",
   "source": "content, cost_list,final_report = report_writing2(kimi_weak_llm_config,Qwen_strong_llm_config)",
   "id": "23de025680f0be2d",
   "outputs": [
    {
     "name": "stdout",
     "output_type": "stream",
     "text": [
      "\u001B[31m\n",
      ">>>>>>>> USING AUTO REPLY...\u001B[0m\n",
      "\u001B[31m\n",
      ">>>>>>>> USING AUTO REPLY...\u001B[0m\n"
     ]
    }
   ],
   "execution_count": 89
  },
  {
   "metadata": {
    "ExecuteTime": {
     "end_time": "2024-07-31T02:19:30.389890Z",
     "start_time": "2024-07-31T02:19:30.387111Z"
    }
   },
   "cell_type": "code",
   "source": "print(final_report)",
   "id": "a46905e20d3be4a3",
   "outputs": [
    {
     "name": "stdout",
     "output_type": "stream",
     "text": [
      "管理人的量化策略核心在于强逻辑驱动，着重于因子的高可解释性，以此为基础构建投资组合。策略框架内，共集成约200个因子，其中量价类因子占比30%，基本面类因子占据40%，而另类因子，如公司公告、新闻舆情、专利信息等，占比达到30%。在因子挖掘方面，管理人采取以手工挖掘为主的方式，相对减少对机器学习技术的依赖，保持策略的人工智慧介入度与逻辑透明性。\n",
      "\n",
      "对于因子处理，管理人运用机器学习技术进行因子的智能组合与分组，确保因子间的高效协同，同时实施行业中性和市值中性策略，以降低特定风险暴露。模型构建上，管理人灵活结合线性模型与机器学习模型，依据因子特性和市场环境，分别利用线性回归模型进行基础因子评估，以及通过神经网络等高级机器学习算法捕捉复杂非线性关系，偏好模型选择取决于因子特性和预测目标。\n",
      "\n",
      "在因子入池标准上，管理人严格要求候选因子需在模拟环境中观察数月至满足特定标准，如因子间相关性不超过预设阈值，以及通过ICIR（信息比率）和夏普比率等指标的严格筛选，确保因子的有效性和稳定性。\n",
      "\n",
      "执行层面，管理人对股票实施多维度分析后，采用算法下单优化交易成本与执行效率，最终维持在一个宽基持股状态，持股数量通常在数百至千只不等，旨在分散风险并捕捉广泛市场机会。对冲策略上，若适用，管理人可能采用股指期货或其他金融衍生品进行风险对冲，控制敞口，确保策略稳健运行。\n",
      "\n",
      "持仓特征方面，管理人通常持有大量个股，广泛覆盖指数成分股，实现市场广泛参与的同时，注重个股在指数内的权重分布，以维持组合的市场代表性。\n",
      "\n",
      "交易风格上，管理人倾向于保持中等到较高活跃度，年化双边换手率落在15至25倍区间，既保证策略的灵活性，又控制了交易成本，实现了策略收益与流动性的平衡。\n"
     ]
    }
   ],
   "execution_count": 90
  },
  {
   "metadata": {
    "ExecuteTime": {
     "end_time": "2024-07-31T02:14:34.144962Z",
     "start_time": "2024-07-31T02:14:34.138401Z"
    }
   },
   "cell_type": "code",
   "source": "print(content)",
   "id": "318e500be6d37649",
   "outputs": [
    {
     "name": "stdout",
     "output_type": "stream",
     "text": [
      "1. 管理人量化策略的整体思路：\n",
      "   管理人的量化策略主要侧重于基本面量化，强调逻辑性和可解释性。他们使用大量的基本面信息，结合小部分量价信息构建投资组合。策略中，基本面因子占主导地位，量价因子作为辅助。管理人对因子的逻辑性有较高要求，注重因子与市场环境、公司报表情况的关联性。\n",
      "\n",
      "2. 管理人的策略中的因子组成和因子数量：\n",
      "   管理人的因子库包括基本面因子和量价因子。基本面因子大约有三四百个，实际使用的可能在五六十个左右。量价因子的库中可能有几千个，但实际使用的数量不详。\n",
      "\n",
      "3. 管理人对其不同因子类型的解释：\n",
      "   - 基本面因子：主要基于财务报表、公司公告等与公司基本面相关的信息。这些信息被整理成特征，用于机器学习训练。\n",
      "   - 量价因子：虽然具体解释不详，但提到量价因子的挖掘可能使用遗传算法，通过统计学指标完成。\n",
      "\n",
      "4. 管理人的建模方法：\n",
      "   管理人的建模方法包括线性和机器学习模型。他们使用非线性机器学习训练方式，将基本面因子和量价因子一起投入模型，让模型自行处理。此外，量价因子的挖掘可能使用遗传算法。\n",
      "\n",
      "5. 管理人的新因子入库条件：\n",
      "   新因子入库时，管理人会参考因子的SCI（统计显著性检验）结果，并根据当前库内因子的特征进行交叉验证。他们偏好具有一定替代性或负相关性的因子。\n",
      "\n",
      "6. 管理人的具体操作：\n",
      "   - 下单算法：管理人没有自研交易算法，完全依靠券商提供的算法。\n",
      "   - 持股数：管理人的一篮子持仓大约有500~800只个股。\n",
      "   - 年化双边换手率：管理人的换手率大约在15~25倍之间。\n"
     ]
    }
   ],
   "execution_count": 82
  },
  {
   "metadata": {
    "ExecuteTime": {
     "end_time": "2024-07-31T02:14:34.152651Z",
     "start_time": "2024-07-31T02:14:34.144962Z"
    }
   },
   "cell_type": "code",
   "source": "cost_list",
   "id": "84bd892090065d6f",
   "outputs": [
    {
     "data": {
      "text/plain": [
       "[{'total_cost': 0.094752,\n",
       "  'moonshot-v1-8k': {'cost': 0.094752,\n",
       "   'prompt_tokens': 7500,\n",
       "   'completion_tokens': 396,\n",
       "   'total_tokens': 7896}},\n",
       " {'total_cost': 0.09884000000000001,\n",
       "  'qwen-max': {'cost': 0.09884000000000001,\n",
       "   'prompt_tokens': 980,\n",
       "   'completion_tokens': 497,\n",
       "   'total_tokens': 1477}}]"
      ]
     },
     "execution_count": 83,
     "metadata": {},
     "output_type": "execute_result"
    }
   ],
   "execution_count": 83
  },
  {
   "metadata": {},
   "cell_type": "code",
   "outputs": [],
   "execution_count": null,
   "source": "",
   "id": "68550a60fd26755f"
  }
 ],
 "metadata": {
  "kernelspec": {
   "display_name": "Python 3",
   "language": "python",
   "name": "python3"
  },
  "language_info": {
   "codemirror_mode": {
    "name": "ipython",
    "version": 2
   },
   "file_extension": ".py",
   "mimetype": "text/x-python",
   "name": "python",
   "nbconvert_exporter": "python",
   "pygments_lexer": "ipython2",
   "version": "2.7.6"
  }
 },
 "nbformat": 4,
 "nbformat_minor": 5
}
