{
 "cells": [
  {
   "cell_type": "code",
   "id": "initial_id",
   "metadata": {
    "collapsed": true,
    "ExecuteTime": {
     "end_time": "2024-08-07T08:10:22.696536Z",
     "start_time": "2024-08-07T08:10:22.268507Z"
    }
   },
   "source": [
    "from autogen import ConversableAgent\n",
    "from openai import OpenAI\n",
    "from pathlib import Path\n",
    "\n",
    "import LLM_configs\n",
    "import Prompt_dics\n",
    "from LLM_configs import *\n",
    "from Agents import *\n",
    "from tools import *"
   ],
   "outputs": [],
   "execution_count": 1
  },
  {
   "cell_type": "code",
   "source": [
    "# 加载 .env 文件\n",
    "load_dotenv()"
   ],
   "metadata": {
    "collapsed": false,
    "ExecuteTime": {
     "end_time": "2024-08-07T08:10:25.236211Z",
     "start_time": "2024-08-07T08:10:25.232511Z"
    }
   },
   "id": "5e7b0130d26455f6",
   "outputs": [
    {
     "data": {
      "text/plain": [
       "True"
      ]
     },
     "execution_count": 2,
     "metadata": {},
     "output_type": "execute_result"
    }
   ],
   "execution_count": 2
  },
  {
   "metadata": {},
   "cell_type": "markdown",
   "source": [
    "## 文件提取"
   ],
   "id": "dceb703782234c63"
  },
  {
   "metadata": {
    "ExecuteTime": {
     "end_time": "2024-08-07T08:12:02.242660Z",
     "start_time": "2024-08-07T08:11:54.105850Z"
    }
   },
   "cell_type": "code",
   "source": "text = file_extraction(\"test files/永誉天泽7月实地调研.m4a-文稿-转写结果.docx\")",
   "id": "6b72c8d771291814",
   "outputs": [],
   "execution_count": 3
  },
  {
   "cell_type": "code",
   "source": [
    "PPT = file_extraction(\"test files/上海象上投资.pptx\")"
   ],
   "metadata": {
    "collapsed": false,
    "ExecuteTime": {
     "end_time": "2024-08-07T08:12:05.324963Z",
     "start_time": "2024-08-07T08:12:04.605163Z"
    }
   },
   "id": "41fe22128481ab7e",
   "outputs": [],
   "execution_count": 4
  },
  {
   "metadata": {},
   "cell_type": "markdown",
   "source": [
    "## Agent设计"
   ],
   "id": "c62c5036c7e2dc36"
  },
  {
   "metadata": {
    "ExecuteTime": {
     "end_time": "2024-08-07T08:12:07.284048Z",
     "start_time": "2024-08-07T08:12:07.281281Z"
    }
   },
   "cell_type": "code",
   "source": [
    "quant_dict = {\n",
    "    'quant_idea':[],\n",
    "    'factor_composition':[],\n",
    "    'factor_explanation':[],\n",
    "    'model_explanation':[],\n",
    "    'factor_update':[],\n",
    "    'strategy_execution':[]\n",
    "}"
   ],
   "id": "d087e9c10b4f1520",
   "outputs": [],
   "execution_count": 5
  },
  {
   "metadata": {
    "ExecuteTime": {
     "end_time": "2024-08-07T08:12:08.923546Z",
     "start_time": "2024-08-07T08:12:08.920306Z"
    }
   },
   "cell_type": "code",
   "source": "market_neutral = fill_placeholders(['中证500指增', '股指期货','0%'], Prompt_dics.Other_prompt_dic['中性多头/对冲端'])",
   "id": "e9957fa0147f5c07",
   "outputs": [],
   "execution_count": 6
  },
  {
   "metadata": {
    "ExecuteTime": {
     "end_time": "2024-08-07T08:12:09.947937Z",
     "start_time": "2024-08-07T08:12:09.945940Z"
    }
   },
   "cell_type": "code",
   "source": "market_neutral = ''",
   "id": "33366c92c05e1bd8",
   "outputs": [],
   "execution_count": 7
  },
  {
   "metadata": {
    "ExecuteTime": {
     "end_time": "2024-08-07T08:12:11.413365Z",
     "start_time": "2024-08-07T08:12:11.400724Z"
    }
   },
   "cell_type": "code",
   "source": [
    "def report_writing(weak_config, strong_config,prompts,component_dict, requirements, updating):\n",
    "    \n",
    "    ## 定义信息抽取，写报告，修改报告的 agent\n",
    "    extraction_agent = extraction_assistant(weak_config)\n",
    "    \n",
    "    integrate_agent = integrate_assistant(strong_config,requirements)\n",
    "    \n",
    "    report_modify_agent = report_modify(strong_config)\n",
    "    \n",
    "    ## 抽取信息\n",
    "    \n",
    "    for prompt, component in zip(prompts, list(component_dict.keys())):\n",
    "        reply = extraction_agent.generate_reply(messages=[{\"content\": text, \"role\":\"system\"},\n",
    "                                                      {\"content\": prompt, \"role\": \"user\"}])\n",
    "        component_dict[component].append(reply)\n",
    "    \n",
    "    component_dict['hedging tools'] = market_neutral\n",
    "    \n",
    "    ## 根据抽取的信息撰写报告\n",
    "    \n",
    "    final_report = integrate_agent.generate_reply(messages=[{\"content\": str(component_dict), \"role\": \"system\"},\n",
    "                                                                {\n",
    "                                                                    \"content\": \"按需求生成报告，不要分段，写成一整段，要求逻辑清晰，细节完整，长度越长越好，但不要有过多的你自由发挥的解释，客观记录为主, 不要出现评价语言，例如“这体现了XXXX\",\n",
    "                                                                    \"role\": \"user\"}])\n",
    "    non_updating_report = final_report\n",
    "    \n",
    "    \n",
    "    ## 如果有旧报告，则将新报告和旧报告进行合成\n",
    "    if updating:\n",
    "        old_report_relevant_part = input(\"请把上一篇报告的配置逻辑部分复制到此处\")\n",
    "        final_report = integrate_agent.generate_reply(messages=[{\"content\": \"旧报告: \"+old_report_relevant_part+\"新报告:\"+str(final_report), \"role\": \"system\"},\n",
    "                                                                {\"content\": \"你是一个报告审查和撰写专员，现在你有一篇旧报告和一篇新报告，你要做的是在旧报告的基础上，判断新报告中的增量信息，并将新报告中的增量信息与旧报告中的现有信息相结合，完成一篇更新的报告，如果两个报告中对某一个地方有冲突，则以新报告为准。\", \"role\": \"system\"},\n",
    "                                                                {\n",
    "                                                                    \"content\": \"按需求生成报告，不要分段，写成一整段，要求逻辑清晰，细节完整.长度越长越好，但不要有过多的你自由发挥的解释，客观记录为主, 不要出现评价语言，例如“这体现了XXXX\",\n",
    "                                                                    \"role\": \"user\"}])\n",
    "        print(final_report)\n",
    "    \n",
    "    \n",
    "    ## 增加一个 feedback模块\n",
    "    feedback = input(\"请提供您的反馈，如果满意请输入'y'，如果不满意请输入您的调整建议: \")\n",
    "    loop_counter = 0\n",
    "    while feedback != 'y' or loop_counter>=5:\n",
    "        final_report = report_modify_agent.generate_reply(messages = [{\"content\": \"修改要求：\"+feedback+\"，其他的一个字都不能改\", \"role\": \"system\"},\n",
    "                                                                      {\"content\": \"这是报告:\"+final_report, \"role\": \"system\"},\n",
    "                                                                      {\"content\": \"按照要求，对报告进行修改\", \"role\": \"user\"}])\n",
    "        print(\"生成的中间报告: \", final_report)\n",
    "        \n",
    "        feedback = input(\"请提供您的反馈，如果满意请输入'y'，如果不满意请输入您的调整建议: \")\n",
    "        loop_counter += 1\n",
    "            \n",
    "            \n",
    "    \n",
    "    cost_list = [extraction_agent.get_total_usage(),integrate_agent.get_total_usage()]\n",
    "    \n",
    "    return final_report,non_updating_report, component_dict, cost_list"
   ],
   "id": "c63d89bdd630bb1a",
   "outputs": [],
   "execution_count": 8
  },
  {
   "metadata": {
    "ExecuteTime": {
     "end_time": "2024-08-07T08:16:24.124773Z",
     "start_time": "2024-08-07T08:12:12.886633Z"
    }
   },
   "cell_type": "code",
   "source": "Ali_report,first_Ali_report, Quant_component_dic, cost_list = report_writing(LLM_configs.Qwen_weak_llm_config, LLM_configs.Qwen_strong_llm_config, Prompt_dics.Strategy_prompt_dic['Simple Quant Strategy'],quant_dict, Prompt_dics.Strategy_requirements_dic['Simple Quant Strategy'],True)",
   "id": "68550a60fd26755f",
   "outputs": [
    {
     "name": "stdout",
     "output_type": "stream",
     "text": [
      "\u001B[31m\n",
      ">>>>>>>> USING AUTO REPLY...\u001B[0m\n",
      "\u001B[31m\n",
      ">>>>>>>> USING AUTO REPLY...\u001B[0m\n",
      "\u001B[31m\n",
      ">>>>>>>> USING AUTO REPLY...\u001B[0m\n",
      "\u001B[31m\n",
      ">>>>>>>> USING AUTO REPLY...\u001B[0m\n",
      "\u001B[31m\n",
      ">>>>>>>> USING AUTO REPLY...\u001B[0m\n",
      "\u001B[31m\n",
      ">>>>>>>> USING AUTO REPLY...\u001B[0m\n",
      "\u001B[31m\n",
      ">>>>>>>> USING AUTO REPLY...\u001B[0m\n",
      "\u001B[31m\n",
      ">>>>>>>> USING AUTO REPLY...\u001B[0m\n",
      "管理人张润伟的量化策略综合了深度逻辑推理与先进的机器学习技术，旨在通过精密的基本面分析、量价信号的敏锐捕捉以及另类数据的独特洞察，构建出一套既稳健又灵活的投资框架。策略核心围绕着以基本面因子为主导，逐步融入并提升量价因子的有效性，特别是在国内市场环境下，量价因子的影响力显著，促使管理人在2022年10月引入了机器学习模型以进一步优化策略表现。截至2024年一季度，策略配置逻辑调整为基本面因子占比35%，人工挖掘的量价因子与机器学习量价因子分别占比35%和20%，另类因子占10%，体现出对多元化因子来源的重视及对市场动态的灵活应对。\n",
      "\n",
      "管理人的因子库包含大约600个因子，其中基本面因子约200个，人工量价因子300余个，机器学习生成的单一因子以其独特的端到端处理能力成为重要组成部分，另类因子则聚焦于新闻舆情、供应链分析及宏观数据等维度。因子挖掘与处理方法上，基本面与人工量价因子依赖于传统的数据挖掘与分析，而机器学习因子则采用先进的算法从海量数据中提取非线性关系。所有因子通过线性组合形成预测模型，模型频段设定在3-5天，旨在捕捉短期至中期的市场趋势。\n",
      "\n",
      "因子入库存储遵循严格的标准，尽管具体流程未详尽阐述，但强调了对因子逻辑性和有效性的持续评估，以及对因子表现不佳时的及时复审与优化机制。执行层面，管理人通过精选约2500只股票作为初始池，排除ST股、小市值、低流动性及低价股，实际操作中持有200至400只股票，与500指增和1000指增产品高度关联，换手率维持在60倍左右，借助第三方算法优化交易执行效率。风险控制方面，管理人实施严格的行业与风格偏离限制，同时计划逐步放宽行业约束以探索潜在的收益增厚机会。\n",
      "\n",
      "对冲策略方面，管理人灵活运用多种工具，包括但不限于IM、融券及股指期货，经历了从使用远月合约转向近月合约的策略调整，以减少基差波动带来的风险。2023年对冲成本显著降低至4%，相比2022年的8%有明显改善，显示了管理人在成本控制上的进步。综上所述，管理人的量化策略不仅融合了传统与现代投资分析技术，还不断优化因子构成与模型结构，以适应不断变化的市场环境，同时在风险管理与交易执行上展现出高度的专业性和灵活性。\n"
     ]
    }
   ],
   "execution_count": 9
  },
  {
   "metadata": {
    "ExecuteTime": {
     "end_time": "2024-08-07T08:16:24.130746Z",
     "start_time": "2024-08-07T08:16:24.128114Z"
    }
   },
   "cell_type": "code",
   "source": "print(Ali_report)",
   "id": "d71d79e048008e01",
   "outputs": [
    {
     "name": "stdout",
     "output_type": "stream",
     "text": [
      "管理人张润伟的量化策略综合了深度逻辑推理与先进的机器学习技术，旨在通过精密的基本面分析、量价信号的敏锐捕捉以及另类数据的独特洞察，构建出一套既稳健又灵活的投资框架。策略核心围绕着以基本面因子为主导，逐步融入并提升量价因子的有效性，特别是在国内市场环境下，量价因子的影响力显著，促使管理人在2022年10月引入了机器学习模型以进一步优化策略表现。截至2024年一季度，策略配置逻辑调整为基本面因子占比35%，人工挖掘的量价因子与机器学习量价因子分别占比35%和20%，另类因子占10%，体现出对多元化因子来源的重视及对市场动态的灵活应对。\n",
      "\n",
      "管理人的因子库包含大约600个因子，其中基本面因子约200个，人工量价因子300余个，机器学习生成的单一因子以其独特的端到端处理能力成为重要组成部分，另类因子则聚焦于新闻舆情、供应链分析及宏观数据等维度。因子挖掘与处理方法上，基本面与人工量价因子依赖于传统的数据挖掘与分析，而机器学习因子则采用先进的算法从海量数据中提取非线性关系。所有因子通过线性组合形成预测模型，模型频段设定在3-5天，旨在捕捉短期至中期的市场趋势。\n",
      "\n",
      "因子入库存储遵循严格的标准，尽管具体流程未详尽阐述，但强调了对因子逻辑性和有效性的持续评估，以及对因子表现不佳时的及时复审与优化机制。执行层面，管理人通过精选约2500只股票作为初始池，排除ST股、小市值、低流动性及低价股，实际操作中持有200至400只股票，与500指增和1000指增产品高度关联，换手率维持在60倍左右，借助第三方算法优化交易执行效率。风险控制方面，管理人实施严格的行业与风格偏离限制，同时计划逐步放宽行业约束以探索潜在的收益增厚机会。\n",
      "\n",
      "对冲策略方面，管理人灵活运用多种工具，包括但不限于IM、融券及股指期货，经历了从使用远月合约转向近月合约的策略调整，以减少基差波动带来的风险。2023年对冲成本显著降低至4%，相比2022年的8%有明显改善，显示了管理人在成本控制上的进步。综上所述，管理人的量化策略不仅融合了传统与现代投资分析技术，还不断优化因子构成与模型结构，以适应不断变化的市场环境，同时在风险管理与交易执行上展现出高度的专业性和灵活性。\n"
     ]
    }
   ],
   "execution_count": 10
  },
  {
   "metadata": {
    "ExecuteTime": {
     "end_time": "2024-08-07T08:16:24.133927Z",
     "start_time": "2024-08-07T08:16:24.131692Z"
    }
   },
   "cell_type": "code",
   "source": "print(first_Ali_report)",
   "id": "1f57306ed155ce15",
   "outputs": [
    {
     "name": "stdout",
     "output_type": "stream",
     "text": [
      "管理人的量化策略整体融合了强逻辑分析与机器学习技术，旨在通过基本面分析、事件驱动策略与先进数据分析手段捕捉市场机遇。策略核心包括重视公司基本面数据（如盈利、营收）的逻辑分析，结合市场事件的响应，以及运用机器学习处理大数据，发现复杂市场模式。策略实施上，采取多策略融合以增强稳健性，并持续迭代模型以适应市场变化。因子组成方面，约一半收益源自基本面因子，如盈利质量与超预期动量，量价类与机器学习因子合计贡献约20%，另类因子虽未明确比例，但通过特定事件影响市场。因子挖掘与处理上，基本面与量价因子基于传统数据，机器学习因子则利用高级算法从多元数据中提炼，另类因子需人工加工特定事件数据。建模方法上，结合线性模型（如简单回归估算流动性）与机器学习模型（提高交易频率至半小时或一小时级别，可能应用监督学习的回归或分类算法预测市场动态）。因子入库存储条件未明确提及。执行层面，管理人通过自研IT系统支持策略快速迭代，持仓约50%日流动性股票，确保市场影响最小化，严格风控管理行业与风格偏离，控制Barra风格因子暴露，考虑非线性市值因子调整。关于年化双边换手率、具体持股数及对冲方法的详细数据未直接提供。\n"
     ]
    }
   ],
   "execution_count": 11
  },
  {
   "metadata": {
    "ExecuteTime": {
     "end_time": "2024-08-07T08:16:24.137835Z",
     "start_time": "2024-08-07T08:16:24.135165Z"
    }
   },
   "cell_type": "code",
   "source": "cost_list",
   "id": "827b02c2848fc5af",
   "outputs": [
    {
     "data": {
      "text/plain": [
       "[{'total_cost': 0.414076,\n",
       "  'qwen-plus': {'cost': 0.414076,\n",
       "   'prompt_tokens': 99235,\n",
       "   'completion_tokens': 1428,\n",
       "   'total_tokens': 100663}},\n",
       " {'total_cost': 0.24864,\n",
       "  'qwen-max': {'cost': 0.24864,\n",
       "   'prompt_tokens': 3594,\n",
       "   'completion_tokens': 874,\n",
       "   'total_tokens': 4468}}]"
      ]
     },
     "execution_count": 12,
     "metadata": {},
     "output_type": "execute_result"
    }
   ],
   "execution_count": 12
  },
  {
   "metadata": {
    "ExecuteTime": {
     "end_time": "2024-08-07T08:16:24.140748Z",
     "start_time": "2024-08-07T08:16:24.138467Z"
    }
   },
   "cell_type": "code",
   "source": "Quant_component_dic",
   "id": "3f3073678d5f12c1",
   "outputs": [
    {
     "data": {
      "text/plain": [
       "{'quant_idea': ['管理人的量化策略整体上结合了强逻辑和机器学习的方法：\\n\\n1. **强逻辑和可解释性**：该公司重视基本面分析和事件驱动策略，这意味着他们在选股时会依据公司的基本面数据（如盈利、营收等）和市场事件（如公司公告、新闻等），这体现了策略中的强逻辑性和较高的可解释性。\\n\\n2. **机器学习的应用**：同时，公司也利用机器学习技术来处理大量数据和寻找市场中的复杂模式。这表明他们在策略中融入了较为先进的数据分析方法，以捕捉市场中的细微机会。\\n\\n3. **多策略融合**：公司采取多策略融合的方式，既包括了基于逻辑的基本面分析和事件驱动策略，也涵盖了利用机器学习进行的量化分析。这种方法有助于分散风险并提高策略的稳健性。\\n\\n4. **持续迭代和优化**：无论是基本面分析还是机器学习模型，公司都在不断地进行迭代和优化，以适应市场的变化并提高策略的有效性。\\n\\n综上所述，该公司的量化策略既注重策略的逻辑性和可解释性，同时也积极采用先进的机器学习技术，形成了一个多维度、灵活适应市场的投资体系。'],\n",
       " 'factor_composition': ['根据文件内容，我们可以总结出以下关键信息：\\n\\n- 管理人的策略包含多个因子类别，主要包括量价类因子、基本面因子和另类因子。\\n- 基本面因子在今年表现强劲，包括盈利质量、动量的超预期以及价值因子等。\\n- 量价类因子也持续表现出较好的效果。\\n- 另类因子贡献了部分收益，但触发时间不固定，依赖于特定事件的发生。\\n\\n具体占比如下：\\n- 基本面因子：大约占总收益的一半。\\n- 量价类因子和机器学习因子：合计占比约为20%多。\\n- 另类因子：未给出具体比例，但从上下文推测其占比相对较小。\\n\\n因子总数没有明确给出，但从文中提到的不同因子类别及其细分来看，因子总数应该是由上述几类因子构成的，具体数量需要进一步分析策略细节才能确定。'],\n",
       " 'factor_explanation': ['根据提供的内容，管理人讨论了不同类型的因子及其数据基础，主要包括：\\n\\n- **基本面因子**：这类因子在今年表现强劲，涉及盈利质量、盈利动量（超预期）、价值等。这些因子基于公司的财务报告数据，例如净利润、营业收入等。\\n\\n- **人工量价因子**：这部分因子来源于市场交易数据，包括量价关系等信息。\\n\\n- **机器学习因子**：利用机器学习方法生成的因子，可能基于多种数据源，包括但不限于市场数据、宏观经济数据等。\\n\\n- **另类因子**：这类因子基于非传统数据源，如事件驱动的数据（公司公告、新闻等）。管理人提到他们会自行加工这些数据，对其进行精细分类，以判断哪些事件会对市场产生影响。\\n\\n- **事件驱动因子**：基于特定事件的数据，如股权激励、指数调整、限售解禁等。\\n\\n文中并未详细列出每种因子的具体计算公式或详细数据来源，因此无法提供更进一步的信息。如果有更详细的因子描述需求，请提供具体指引。'],\n",
       " 'model_explanation': ['根据提供的内容，管理人在建模方法上涉及到了多种技术和策略应用，主要包括线性和机器学习模型。以下是具体的信息提取：\\n\\n### 建模方法概述\\n\\n- **线性模型**：\\n  - **排序打分**：未明确提及使用排序打分的方法。\\n  - **简单回归**：提到使用简单回归来进行某些计算，例如在描述流动性控制时，使用过去20天的日均成交量（ATM）的3%来估算单只股票的流动性。\\n\\n- **机器学习模型**：\\n  - 管理人明确表示在使用机器学习技术，并且这部分是由CEO杨总负责。\\n  - 机器学习模型的应用主要集中在提高频率上，即缩短交易周期至半小时或一小时级别。\\n  - 未详细说明具体的机器学习算法，但从上下文推测，可能涉及到监督学习中的回归或分类算法，用于预测股票价格变动或选择最佳交易时机。\\n\\n### 具体建模方法\\n\\n- **线性模型**：\\n  - 使用简单回归来估算流动性，确保交易不会对市场造成过大影响。\\n  \\n- **机器学习模型**：\\n  - 应用机器学习模型来提高交易频率，缩短交易周期。\\n  - 虽然没有明确指出使用的具体算法，但根据上下文推测，可能采用的是监督学习中的回归或分类算法，用于预测股票价格变动趋势或选择最佳交易时机。\\n\\n### 总结\\n\\n管理人在建模方法上同时使用了线性和机器学习模型。线性模型主要用于流动性控制等风险管理方面，而机器学习模型则更多地应用于提高交易频率和捕捉市场机会。尽管没有详细说明具体的机器学习算法，但可以推测其应用场景可能涉及回归或分类算法。'],\n",
       " 'factor_update': ['在提供的内容中，没有明确提到管理人的新因子入库的具体条件，包括在模拟盘中观察的时间、衡量指标如夏普比率、ICIR等以及其他措施。因此，根据现有信息，无法提取这些细节。\\n\\n内容中与策略和因子相关的信息较为分散，主要集中在对策略的讨论、市场适应性和风险管理等方面，但没有直接提及新因子入库的标准或流程。\\n\\n故此，针对所提问的具体要求，答案为“无”。如果有其他方面的信息需求，请告知。'],\n",
       " 'strategy_execution': ['根据提供的内容，我们可以提取出以下相关信息：\\n\\n### 管理人的具体操作\\n\\n1. **自研与外部系统使用**：\\n   - 公司采用自研的IT系统，包括代码编写、重构及IT架构设计。\\n   - IT系统高度定制化，支持快速迭代和策略实现。\\n\\n2. **策略持股数量**：\\n   - 持仓股票数量约为50%的日流动性（即持有最多股票的日流动性比例）。\\n   - 这种设置确保了在不影响市场的情况下可以在5天内完成清仓。\\n\\n3. **年化双边换手率**：\\n   - 文本中未直接提及年化双边换手率的具体数值。\\n\\n4. **行业偏离度与风格偏离度**：\\n   - 实施严格的风控措施，避免风格和行业的显著偏离。\\n   - 通过控制各种风格因子的暴露来实现这一点，例如市值、流动性等。\\n\\n5. **Barra风格因子暴露**：\\n   - 对Barra风格因子的暴露进行了控制，特别是流动性因子。\\n   - 正在考虑替换非线性市值因子，以更好地反映中盘股的影响。\\n\\n6. **其他操作**：\\n   - 使用基本面分析、另类数据、量价分析等多种策略。\\n   - 机器学习策略的应用，尤其是在较短周期内的交易决策。\\n\\n请注意，上述信息是基于提供的文本内容进行的概括和总结。具体的数值和细节可能需要进一步的资料或直接询问相关人员以获取准确信息。'],\n",
       " 'hedging tools': ''}"
      ]
     },
     "execution_count": 13,
     "metadata": {},
     "output_type": "execute_result"
    }
   ],
   "execution_count": 13
  },
  {
   "metadata": {},
   "cell_type": "code",
   "outputs": [],
   "execution_count": null,
   "source": [
    "def report_updating(weak_config, strong_config,prompts,component_dict, requirements):\n",
    "    "
   ],
   "id": "eb9406a44c961550"
  }
 ],
 "metadata": {
  "kernelspec": {
   "display_name": "Python 3",
   "language": "python",
   "name": "python3"
  },
  "language_info": {
   "codemirror_mode": {
    "name": "ipython",
    "version": 2
   },
   "file_extension": ".py",
   "mimetype": "text/x-python",
   "name": "python",
   "nbconvert_exporter": "python",
   "pygments_lexer": "ipython2",
   "version": "2.7.6"
  }
 },
 "nbformat": 4,
 "nbformat_minor": 5
}
