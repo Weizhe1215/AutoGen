{
 "cells": [
  {
   "cell_type": "code",
   "id": "initial_id",
   "metadata": {
    "collapsed": true,
    "ExecuteTime": {
     "end_time": "2024-08-06T14:48:23.544307Z",
     "start_time": "2024-08-06T14:48:22.552501Z"
    }
   },
   "source": [
    "from autogen import ConversableAgent\n",
    "from openai import OpenAI\n",
    "from pathlib import Path\n",
    "\n",
    "import LLM_configs\n",
    "import Prompt_dics\n",
    "from LLM_configs import *\n",
    "from Agents import *\n",
    "from tools import *"
   ],
   "outputs": [],
   "execution_count": 1
  },
  {
   "cell_type": "code",
   "source": [
    "# 加载 .env 文件\n",
    "load_dotenv()"
   ],
   "metadata": {
    "collapsed": false,
    "ExecuteTime": {
     "end_time": "2024-08-06T14:48:24.132213Z",
     "start_time": "2024-08-06T14:48:24.127471Z"
    }
   },
   "id": "5e7b0130d26455f6",
   "outputs": [
    {
     "data": {
      "text/plain": [
       "True"
      ]
     },
     "execution_count": 2,
     "metadata": {},
     "output_type": "execute_result"
    }
   ],
   "execution_count": 2
  },
  {
   "metadata": {},
   "cell_type": "markdown",
   "source": [
    "## 文件提取"
   ],
   "id": "dceb703782234c63"
  },
  {
   "metadata": {
    "ExecuteTime": {
     "end_time": "2024-08-06T14:48:25.894969Z",
     "start_time": "2024-08-06T14:48:24.667821Z"
    }
   },
   "cell_type": "code",
   "source": "text = file_extraction(\"test files/巨量均衡 2.docx\")",
   "id": "6b72c8d771291814",
   "outputs": [],
   "execution_count": 3
  },
  {
   "cell_type": "code",
   "source": [
    "PPT = file_extraction(\"test files/上海象上投资.pptx\")"
   ],
   "metadata": {
    "collapsed": false,
    "ExecuteTime": {
     "end_time": "2024-08-06T14:48:26.826575Z",
     "start_time": "2024-08-06T14:48:25.895972Z"
    }
   },
   "id": "41fe22128481ab7e",
   "outputs": [],
   "execution_count": 4
  },
  {
   "metadata": {},
   "cell_type": "markdown",
   "source": [
    "## Agent设计"
   ],
   "id": "c62c5036c7e2dc36"
  },
  {
   "metadata": {
    "ExecuteTime": {
     "end_time": "2024-08-06T14:48:26.831169Z",
     "start_time": "2024-08-06T14:48:26.827583Z"
    }
   },
   "cell_type": "code",
   "source": [
    "quant_dict = {\n",
    "    'quant_idea':[],\n",
    "    'factor_composition':[],\n",
    "    'factor_explanation':[],\n",
    "    'model_explanation':[],\n",
    "    'factor_update':[],\n",
    "    'strategy_execution':[]\n",
    "}"
   ],
   "id": "d087e9c10b4f1520",
   "outputs": [],
   "execution_count": 5
  },
  {
   "metadata": {
    "ExecuteTime": {
     "end_time": "2024-08-06T14:48:26.843102Z",
     "start_time": "2024-08-06T14:48:26.832173Z"
    }
   },
   "cell_type": "code",
   "source": "market_neutral = fill_placeholders(['中证500指增', '股指期货','0%'], Prompt_dics.Other_prompt_dic['中性多头/对冲端'])",
   "id": "e9957fa0147f5c07",
   "outputs": [],
   "execution_count": 6
  },
  {
   "metadata": {
    "ExecuteTime": {
     "end_time": "2024-08-06T14:48:27.327878Z",
     "start_time": "2024-08-06T14:48:27.325399Z"
    }
   },
   "cell_type": "code",
   "source": "market_neutral",
   "id": "33366c92c05e1bd8",
   "outputs": [
    {
     "data": {
      "text/plain": [
       "'管理人的多头端是 中证500指增， 使用 股指期货进行对冲，留0%的风险敞口.'"
      ]
     },
     "execution_count": 7,
     "metadata": {},
     "output_type": "execute_result"
    }
   ],
   "execution_count": 7
  },
  {
   "metadata": {
    "ExecuteTime": {
     "end_time": "2024-08-06T14:48:28.310808Z",
     "start_time": "2024-08-06T14:48:28.302225Z"
    }
   },
   "cell_type": "code",
   "source": [
    "def report_writing(weak_config, strong_config,prompts,component_dict, requirements, updating):\n",
    "    extraction_agent = extraction_assistant(weak_config)\n",
    "    \n",
    "    integrate_agent = integrate_assistant(strong_config,requirements)\n",
    "    \n",
    "    for prompt, component in zip(prompts, list(component_dict.keys())):\n",
    "        reply = extraction_agent.generate_reply(messages=[{\"content\": text, \"role\":\"system\"},\n",
    "                                                      {\"content\": prompt, \"role\": \"user\"}])\n",
    "        component_dict[component].append(reply)\n",
    "    \n",
    "    component_dict['hedging tools'] = market_neutral\n",
    "    \n",
    "    final_report = integrate_agent.generate_reply(messages=[{\"content\": str(component_dict), \"role\": \"system\"},\n",
    "                                                                {\n",
    "                                                                    \"content\": \"按需求生成报告，不要分段，写成一整段，要求逻辑清晰，细节完整，长度越长越好，但不要有过多的你自由发挥的解释，客观记录为主, 不要出现评价语言，例如“这体现了XXXX\",\n",
    "                                                                    \"role\": \"user\"}])\n",
    "    non_updating_report = final_report\n",
    "    \n",
    "    if updating:\n",
    "        old_report_relevant_part = input(\"请把上一篇报告的配置逻辑部分复制到此处\")\n",
    "        final_report = integrate_agent.generate_reply(messages=[{\"content\": \"旧报告: \"+old_report_relevant_part+\"新报告:\"+str(final_report), \"role\": \"system\"},\n",
    "                                                                {\"content\": \"你是一个报告审查和撰写专员，现在你有一篇旧报告和一篇新报告，你要做的是在旧报告的基础上，判断新报告中的增量信息，并将新报告中的增量信息与旧报告中的现有信息相结合，完成一篇更新的报告，如果两个报告中对某一个地方有冲突，则以新报告为准。\", \"role\": \"system\"},\n",
    "                                                                {\n",
    "                                                                    \"content\": \"按需求生成报告，不要分段，写成一整段，要求逻辑清晰，细节完整.长度越长越好，但不要有过多的你自由发挥的解释，客观记录为主, 不要出现评价语言，例如“这体现了XXXX\",\n",
    "                                                                    \"role\": \"user\"}])\n",
    "    \n",
    "    cost_list = [extraction_agent.get_total_usage(),integrate_agent.get_total_usage()]\n",
    "    \n",
    "    return final_report,non_updating_report, component_dict, cost_list"
   ],
   "id": "c63d89bdd630bb1a",
   "outputs": [],
   "execution_count": 8
  },
  {
   "metadata": {
    "ExecuteTime": {
     "end_time": "2024-08-06T14:51:35.639458Z",
     "start_time": "2024-08-06T14:48:30.120533Z"
    }
   },
   "cell_type": "code",
   "source": "Ali_report,first_Ali_report, Quant_component_dic, cost_list = report_writing(LLM_configs.Qwen_weak_llm_config, LLM_configs.Qwen_strong_llm_config, Prompt_dics.Strategy_prompt_dic['Simple Quant Strategy'],quant_dict, Prompt_dics.Strategy_requirements_dic['Simple Quant Strategy'],True)",
   "id": "68550a60fd26755f",
   "outputs": [
    {
     "name": "stdout",
     "output_type": "stream",
     "text": [
      "\u001B[31m\n",
      ">>>>>>>> USING AUTO REPLY...\u001B[0m\n",
      "\u001B[31m\n",
      ">>>>>>>> USING AUTO REPLY...\u001B[0m\n",
      "\u001B[31m\n",
      ">>>>>>>> USING AUTO REPLY...\u001B[0m\n",
      "\u001B[31m\n",
      ">>>>>>>> USING AUTO REPLY...\u001B[0m\n",
      "\u001B[31m\n",
      ">>>>>>>> USING AUTO REPLY...\u001B[0m\n",
      "\u001B[31m\n",
      ">>>>>>>> USING AUTO REPLY...\u001B[0m\n",
      "\u001B[31m\n",
      ">>>>>>>> USING AUTO REPLY...\u001B[0m\n",
      "\u001B[31m\n",
      ">>>>>>>> USING AUTO REPLY...\u001B[0m\n"
     ]
    }
   ],
   "execution_count": 9
  },
  {
   "metadata": {
    "ExecuteTime": {
     "end_time": "2024-08-06T14:51:35.642428Z",
     "start_time": "2024-08-06T14:51:35.639458Z"
    }
   },
   "cell_type": "code",
   "source": "print(Ali_report)",
   "id": "d71d79e048008e01",
   "outputs": [
    {
     "name": "stdout",
     "output_type": "stream",
     "text": [
      "管理人的量化策略整体思路侧重于逻辑驱动与因子的可解释性，约60%-70%的精力集中于因子研究，20%专注于模型构建，彰显了对高质量、逻辑性强因子的高度重视。相较于过去以线性模型为主的股票ALPHA策略，当前策略在保持原有基础上，自2017年起引入并深入研究机器学习模型，形成了更为多元化的量化体系。策略底层因子构成约为60%基本面量化与40%AI量化，这一比例体现了管理人在传统量化与现代技术之间的平衡布局。基本面量化因子覆盖了50%的比例，利用财报、分析师预期、产业和商品数据，每日更新以筛选出截面上排名靠前的一篮子个股。此外，管理人凭借早期公募积累的行业研究资源，对10个行业实施单独建模，先进行全行业股票的alpha预测，随后通过单行业模型进行局部alpha优化。AI量化方面，占因子组成的40%，主要利用纯量价数据，分为两大模型类别：一是基于开源框架的端到端个股收益率预测，人工精细处理样本切割和特征提取；二是创新性地将深度学习模型的倒数第二层替换为树模型，以增强模型的适应性和解释力。模型训练后的评估严格，需经过不同时间样本的检验，确保模型的稳健性与外推能力，且模型参数调整频率低，每年定期进行，但在遭遇显著回撤时会及时复审并调整。\n",
      "\n",
      "因子挖掘与处理上，基本面因子遵循“先逻辑后量化”的原则，确保因子背后的逻辑清晰可循，而量价因子虽应用复杂模型，同样重视逻辑性和实践验证。模型构建上，偏好线性模型如线性回归来处理基本面因子，以维护逻辑的直接性和模型的泛化性能，同时融入LGBM等非线性模型以增加模型的灵活性。对于量价因子，则采用GRU、RNN等高级非线性模型，以捕捉市场的非线性动态。尽管新报告未详述因子入库存储的具体条件，但可以推测管理人应有一套严谨的因子评估与纳入机制。\n",
      "\n",
      "执行层面，策略综合运用基本面与量价因子，通过模型融合实施，尽管具体持股数量、指数内占比、行业及风格偏离度、年化双边换手率等操作细节未予明确，但策略迭代后已提升了对市场权重行情的敏感度，有效控制了年后回撤至4%，显示出策略持续优化的潜力。管理人计划进一步迭代策略，预计月底完成，预示着策略效能的进一步提升。在风险管理上，管理人采取中证500指增作为多头策略，并利用股指期货进行对冲，严格控制风险敞口为0%，体现了其严谨的风险管理哲学。风格约束方面，不仅采用传统Barra模型，还融入了团队自定义的十余个风险因子，虽然风格并非完全中性，但Barra风格因子波动控制在0.5倍标准差内，市值因子通常不超过0.5倍，极端情况下短期可达到1-1.2倍，行业偏离度则严格控制在申万一二级行业的1%以内，确保了策略的稳定性和合规性。选股范围覆盖全市场5000余只股票，剔除ST股、财务预警及异常标的，约占总数的十分之一。交易执行高效，每3秒更新一次快照数据，依据数据快速下单，鉴于当前规模较小，交易通常在开盘后短时间内完成。\n"
     ]
    }
   ],
   "execution_count": 10
  },
  {
   "metadata": {
    "ExecuteTime": {
     "end_time": "2024-08-06T14:51:35.658435Z",
     "start_time": "2024-08-06T14:51:35.642428Z"
    }
   },
   "cell_type": "code",
   "source": "print(first_Ali_report)",
   "id": "1f57306ed155ce15",
   "outputs": [
    {
     "name": "stdout",
     "output_type": "stream",
     "text": [
      "该公司的量化策略核心思路侧重于逻辑驱动与因子的可解释性，约60%-70%的精力投入因子研究，20%聚焦于模型构建，显示了对高质量、逻辑性强因子的重视。策略因子组成上，基本面因子占比约60%，涵盖财务指标、分析师数据及另类因子；量价因子占比40%，涉及高频、中期和长期量价特征，另类因子则包括产业链上下游及舆情数据，因子池总量约5000-6000个，实际应用数百个。因子挖掘与处理上，基本面因子遵循“先逻辑后量化”原则，确保投资逻辑的明确性，而量价因子虽采用复杂模型，仍重视逻辑性和有效性。模型构建方面，公司偏好线性模型如线性回归用于基本面分析，以保证逻辑清晰和泛化能力，同时利用LGBM等简单非线性模型。量价分析则采用更复杂的非线性模型，包括GRU、RNN等，旨在捕捉市场非线性动态。因子入库存储条件未明确提及。执行层面，策略结合基本面与量价因子，通过不同模型融合实施，但具体持股数量、指数内占比、行业及风格偏离度、年化双边换手率等细节未予透露。管理人采取中证500指增作为多头端，并利用股指期货进行对冲，维持0%的风险敞口，体现了其对风险控制的严谨态度。\n"
     ]
    }
   ],
   "execution_count": 11
  },
  {
   "metadata": {
    "ExecuteTime": {
     "end_time": "2024-08-06T14:51:35.665979Z",
     "start_time": "2024-08-06T14:51:35.658952Z"
    }
   },
   "cell_type": "code",
   "source": "cost_list",
   "id": "827b02c2848fc5af",
   "outputs": [
    {
     "data": {
      "text/plain": [
       "[{'total_cost': 0.26224,\n",
       "  'qwen-plus': {'cost': 0.26224,\n",
       "   'prompt_tokens': 60337,\n",
       "   'completion_tokens': 1741,\n",
       "   'total_tokens': 62078}},\n",
       " {'total_cost': 0.27496000000000004,\n",
       "  'qwen-max': {'cost': 0.27496000000000004,\n",
       "   'prompt_tokens': 3688,\n",
       "   'completion_tokens': 1062,\n",
       "   'total_tokens': 4750}}]"
      ]
     },
     "execution_count": 12,
     "metadata": {},
     "output_type": "execute_result"
    }
   ],
   "execution_count": 12
  },
  {
   "metadata": {
    "ExecuteTime": {
     "end_time": "2024-08-06T14:51:35.672974Z",
     "start_time": "2024-08-06T14:51:35.665979Z"
    }
   },
   "cell_type": "code",
   "source": "cost_list",
   "id": "6226e82a9bbc26d8",
   "outputs": [
    {
     "data": {
      "text/plain": [
       "[{'total_cost': 0.26224,\n",
       "  'qwen-plus': {'cost': 0.26224,\n",
       "   'prompt_tokens': 60337,\n",
       "   'completion_tokens': 1741,\n",
       "   'total_tokens': 62078}},\n",
       " {'total_cost': 0.27496000000000004,\n",
       "  'qwen-max': {'cost': 0.27496000000000004,\n",
       "   'prompt_tokens': 3688,\n",
       "   'completion_tokens': 1062,\n",
       "   'total_tokens': 4750}}]"
      ]
     },
     "execution_count": 13,
     "metadata": {},
     "output_type": "execute_result"
    }
   ],
   "execution_count": 13
  },
  {
   "metadata": {
    "ExecuteTime": {
     "end_time": "2024-08-06T14:51:35.678978Z",
     "start_time": "2024-08-06T14:51:35.672974Z"
    }
   },
   "cell_type": "code",
   "source": "Quant_component_dic",
   "id": "3f3073678d5f12c1",
   "outputs": [
    {
     "data": {
      "text/plain": [
       "{'quant_idea': ['该公司的量化策略整体上是偏重逻辑的，对因子的可解释性有很高的要求。具体体现在以下几个方面：\\n\\n- 在因子模型构建上，公司大约花费60%-70%的精力在因子研究上，而20%的精力则放在模型上。这表明公司更侧重于因子的质量和逻辑性。\\n\\n- 因子覆盖范围广泛，包括基本面因子、量价因子和另类因子。其中，基本面因子的研究深度较大，占据了较大的比重。\\n\\n- 在模型使用上，公司更倾向于使用经典模型和简单模型，如线性模型和LGBM（Light Gradient Boosting Machine）。这反映出公司重视模型的泛化能力和逻辑性。\\n\\n- 公司的基本面因子构建遵循“先逻辑后量化”的原则，即先确定投资逻辑，再通过量化手段表达这一逻辑。这进一步强调了策略的逻辑性和可解释性。\\n\\n- 量价因子方面，虽然也会使用一些复杂的模型，但整体上仍然注重模型的逻辑性和有效性。\\n\\n综上所述，该公司的量化策略更偏向于逻辑驱动型，注重因子的逻辑性和可解释性，而不是仅仅依赖于数据挖掘和机器学习算法。'],\n",
       " 'factor_composition': ['管理人的策略因子组成主要包括以下几个方面：\\n\\n- **基本面因子**：\\n  - 占比：大约60%的收益贡献。\\n  - 构成：\\n    - 财务指标和公告相关的因子，约占基本面因子的40%。\\n    - 基于分析师的数据，同样约占基本面因子的40%。\\n    - 另类和媒体因子，约占基本面因子的20%。\\n\\n- **量价因子**：\\n  - 占比：大约40%的收益贡献。\\n  - 构成：\\n    - 高频、中期和长期量价因子。\\n\\n- **另类因子**：\\n  - 包括产业链上下游数据和舆情因子等。\\n\\n因子池总数约为5000到6000个，但每期实际使用的因子数量大约为几百个。'],\n",
       " 'factor_explanation': ['管理人详细解释了几种不同类型的因子：\\n\\n### 基本面因子\\n- **构成**：\\n  - 财务指标和公告相关的因子（40%）\\n  - 基于分析师的数据（40%）\\n  - 另类和媒体因子（20%）\\n- **数据来源**：\\n  - 上市公司的财报预告、快报等公告\\n  - 分析师的报告和预期\\n  - 产业链上下游数据\\n  - 舆情数据（包括买方舆情、卖方预期、散户预期）\\n\\n### 量价因子\\n- **构成**：\\n  - 高频量价因子\\n  - 中频量价因子\\n  - 低频量价因子\\n- **数据来源**：\\n  - 券商数据\\n  - 分工量价数据\\n  - 高频量价数据的低频化处理\\n\\n### 行业轮动因子\\n- **数据来源**：\\n  - 财务类数据（如业绩、增长情况、估值等）\\n  - 分析师对于行业的整体评价\\n  - 产业链数据\\n  - 舆情数据\\n\\n### 其他说明\\n- 管理人强调他们的策略是“重因子”的，其中基本面因子占60%，量价因子占40%。\\n- 在量价因子方面，他们会将基本面信息融入量价因子的构建中。\\n- 因子池大约包含5000-6000个因子，但每期实际使用的因子数量约为几百个。\\n\\n综上所述，管理人在构建不同类型的因子时，采用了多样化的数据源，包括财务数据、分析师报告、舆情信息、产业链数据等，并且在量价因子方面进行了详细的划分。'],\n",
       " 'model_explanation': ['该公司的管理人在构建模型时采取了不同的方法论，具体取决于所处理的数据类型和目标。对于基本面分析，他们倾向于使用较为简单的模型，而对于量价分析，则采用了更为复杂的模型。\\n\\n### 基本面分析模型\\n\\n- **线性模型**：在基本面分析中，他们主要依赖线性模型。这包括简单的线性回归模型。\\n  - **用途**：用于量化基本面逻辑，例如将财务指标、分析师预期等因素转化为可量化的信号。\\n  - **偏好**：他们更偏好简单模型的泛化能力，因此在基本面分析中，较大的权重被赋予了线性模型或类似LGPM（可能是指Logistic Growth Process Model，但此处可能是指Linear Gaussian Process Model或类似的简化模型）这样的简单模型。\\n\\n### 量价分析模型\\n\\n- **非线性模型**：在量价分析中，他们使用了更为复杂的非线性模型。\\n  - **用途**：捕捉市场交易行为中的非线性关系，这些关系往往缺乏明确的逻辑，更多地反映了交易习惯。\\n  - **算法**：\\n    - 经典模型：线性模型、MAP（可能是Maximum A Posteriori的缩写）、GRU（Gated Recurrent Unit，门控循环单元）、循环神经网络（RNN）。\\n    - **偏好**：在量价分析中，他们更倾向于使用复杂度较高的模型，以捕捉市场中的非线性关系。\\n\\n### 总结\\n\\n- 对于基本面分析，他们偏好使用简单模型，如线性回归模型，来表达基本面逻辑。\\n- 对于量价分析，他们使用了包括线性模型在内的多种模型，但更倾向于使用复杂度较高的非线性模型，如GRU和RNN等，以捕捉市场交易行为中的非线性关系。'],\n",
       " 'factor_update': ['根据提供的内容，没有明确提到管理人的新因子入库的具体条件，包括在模拟盘中观察的时间、衡量指标如夏普比率、ICIR等以及其他措施。相关内容中讨论了因子的研究和使用，但没有详细说明上述特定的入库条件。\\n\\n因此，基于所提供的信息，对于新因子入库条件的回答是：**无**。'],\n",
       " 'strategy_execution': ['从提供的内容中，关于管理人的具体操作细节如下：\\n\\n- **因子模型构成**:\\n  - 基本面因子占60%，量价因子占40%。\\n  - 基本面因子中，财务指标和公告相关的因子占40%，基于分析师的数据占40%，另类和媒体的因子占20%。\\n  - 量价因子池大约有5000-6000个因子，但每期实际使用的因子大约几百个。\\n\\n- **模型使用**:\\n  - 基本面模型较为简单，主要使用线性模型和简单的非线性模型（如LGBM）。\\n  - 量价模型则使用更为复杂的模型，包括线性模型、MAP、GRU等深度学习模型。\\n\\n- **策略融合**:\\n  - 基本面和量价策略进行了融合，基本面策略权重约为60%，量价策略权重约为40%。\\n\\n- **换手率**:\\n  - 当前策略的换手情况未明确提及，但提到了高换手的中高频策略。\\n\\n- **行业轮动**:\\n  - 使用行业轮动模型来指导不同行业上的风险暴露，但具体细节未给出。\\n\\n- **因子有效性维护**:\\n  - 对于基本面因子，采取先逻辑后量化的做法，即先确定逻辑再用量化方式表达，以保持因子的有效性。\\n\\n- **容量规模**:\\n  - 现行策略容量规模约15亿，未来基本面策略的容量预计可达百亿级别。\\n\\n- **监管适应性**:\\n  - 积极应对监管变化，策略开发和产品设计会充分考虑监管态度。\\n\\n- **因子迭代**:\\n  - 因子的有效性通过不断修缮表达方式进行维护，而非单纯增加因子数量。\\n\\n- **具体操作细节**:\\n  - 文本中并未明确提到使用自研或外部的下单算法。\\n  - 不同策略的持股数量、年化双边换手率、行业偏离度、风格偏离度、Barra风格因子暴露等具体数值未给出。\\n\\n综上所述，文本提供了关于因子构成、模型使用、策略融合等方面的信息，但对于具体的下单算法、持股数量、换手率等操作细节并未详细说明。'],\n",
       " 'hedging tools': '管理人的多头端是 中证500指增， 使用 股指期货进行对冲，留0%的风险敞口.'}"
      ]
     },
     "execution_count": 14,
     "metadata": {},
     "output_type": "execute_result"
    }
   ],
   "execution_count": 14
  },
  {
   "metadata": {},
   "cell_type": "code",
   "outputs": [],
   "execution_count": null,
   "source": [
    "def report_updating(weak_config, strong_config,prompts,component_dict, requirements):\n",
    "    "
   ],
   "id": "eb9406a44c961550"
  }
 ],
 "metadata": {
  "kernelspec": {
   "display_name": "Python 3",
   "language": "python",
   "name": "python3"
  },
  "language_info": {
   "codemirror_mode": {
    "name": "ipython",
    "version": 2
   },
   "file_extension": ".py",
   "mimetype": "text/x-python",
   "name": "python",
   "nbconvert_exporter": "python",
   "pygments_lexer": "ipython2",
   "version": "2.7.6"
  }
 },
 "nbformat": 4,
 "nbformat_minor": 5
}
