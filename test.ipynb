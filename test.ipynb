{
 "cells": [
  {
   "cell_type": "code",
   "id": "initial_id",
   "metadata": {
    "collapsed": true,
    "ExecuteTime": {
     "end_time": "2024-07-30T01:14:41.591549Z",
     "start_time": "2024-07-30T01:14:41.015920Z"
    }
   },
   "source": [
    "from autogen import ConversableAgent\n",
    "from dotenv import load_dotenv\n",
    "import os\n",
    "from openai import OpenAI\n",
    "from pathlib import Path"
   ],
   "outputs": [],
   "execution_count": 1
  },
  {
   "cell_type": "code",
   "source": [
    "# 加载 .env 文件\n",
    "load_dotenv()"
   ],
   "metadata": {
    "collapsed": false,
    "ExecuteTime": {
     "end_time": "2024-07-30T03:07:39.183261Z",
     "start_time": "2024-07-30T03:07:39.179684Z"
    }
   },
   "id": "5e7b0130d26455f6",
   "outputs": [
    {
     "data": {
      "text/plain": "True"
     },
     "execution_count": 56,
     "metadata": {},
     "output_type": "execute_result"
    }
   ],
   "execution_count": 56
  },
  {
   "cell_type": "markdown",
   "source": [
    "## Kimi API"
   ],
   "metadata": {
    "collapsed": false
   },
   "id": "6889721d4a136089"
  },
  {
   "cell_type": "code",
   "source": [
    "kimi_weak_llm_config = {\n",
    "    \"config_list\": [\n",
    "        {\n",
    "            \"model\": \"moonshot-v1-8k\",\n",
    "            \"api_key\": os.environ.get(\"Kimi_API_KEY\"),\n",
    "            \"api_type\": \"openai\",\n",
    "            \"base_url\": \"https://api.moonshot.cn/v1\",\n",
    "            \"price\": [0.012,0.012]\n",
    "        }],\n",
    "    \"temperature\": 0.1,\n",
    "    \"timeout\": 300\n",
    "}\n",
    "\n",
    "kimi_strong_llm_cofig = {\n",
    "    \"config_list\": [\n",
    "        {\n",
    "            \"model\": \"moonshot-v1-128k\",\n",
    "            \"api_key\": os.environ.get(\"Kimi_API_KEY\"),\n",
    "            \"api_type\": \"openai\",\n",
    "            \"base_url\": \"https://api.moonshot.cn/v1\",\n",
    "            \"price\": [0.06,0.06]\n",
    "        }],\n",
    "    \"temperature\": 0.1,\n",
    "    \"timeout\": 300\n",
    "}"
   ],
   "metadata": {
    "collapsed": false,
    "ExecuteTime": {
     "end_time": "2024-07-30T01:14:43.422896Z",
     "start_time": "2024-07-30T01:14:43.420633Z"
    }
   },
   "id": "b2bc68249e8fa325",
   "outputs": [],
   "execution_count": 3
  },
  {
   "cell_type": "markdown",
   "source": [
    "## Ali api"
   ],
   "metadata": {
    "collapsed": false
   },
   "id": "26571702031de113"
  },
  {
   "cell_type": "code",
   "outputs": [],
   "source": [
    "Qwen_weak_llm_config = {\n",
    "    \"config_list\": [\n",
    "        {\n",
    "            \"model\": \"qwen-plus\",\n",
    "            \"api_key\": os.environ.get(\"Qwen_API_KEY\"),\n",
    "            \"api_type\": \"openai\",\n",
    "            \"base_url\": \"https://dashscope.aliyuncs.com/compatible-mode/v1\",\n",
    "            \"price\": [0.004,0.012]\n",
    "        }],\n",
    "    \"temperature\": 0.5,\n",
    "    \"timeout\": 300\n",
    "}\n",
    "\n",
    "Qwen_strong_llm_config = {\n",
    "    \"config_list\": [\n",
    "        {\n",
    "            \"model\": \"qwen-max\",\n",
    "            \"api_key\": os.environ.get(\"Qwen_API_KEY\"),\n",
    "            \"api_type\": \"openai\",\n",
    "            \"base_url\": \"https://dashscope.aliyuncs.com/compatible-mode/v1\",\n",
    "            \"price\": [0.004,0.012]\n",
    "        }],\n",
    "    \"temperature\": 0.5,\n",
    "    \"timeout\": 300\n",
    "}"
   ],
   "metadata": {
    "collapsed": false,
    "ExecuteTime": {
     "end_time": "2024-07-30T03:18:19.258090Z",
     "start_time": "2024-07-30T03:18:19.255042Z"
    }
   },
   "id": "aa5241250be7f7fc",
   "execution_count": 65
  },
  {
   "cell_type": "code",
   "outputs": [
    {
     "data": {
      "text/plain": "'sk-9e1015602c4b48b3abd216a5feb50687'"
     },
     "execution_count": 66,
     "metadata": {},
     "output_type": "execute_result"
    }
   ],
   "source": [
    "os.environ.get(\"Qwen_API_KEY\")"
   ],
   "metadata": {
    "collapsed": false,
    "ExecuteTime": {
     "end_time": "2024-07-30T03:18:20.945663Z",
     "start_time": "2024-07-30T03:18:20.942395Z"
    }
   },
   "id": "a83d29114875a178",
   "execution_count": 66
  },
  {
   "cell_type": "code",
   "source": [
    "# Kimi的文件接口\n",
    "client = OpenAI(\n",
    "    api_key = os.environ.get(\"Kimi_API_KEY\"),\n",
    "    base_url = \"https://api.moonshot.cn/v1\",\n",
    ")"
   ],
   "metadata": {
    "collapsed": false,
    "ExecuteTime": {
     "end_time": "2024-07-30T01:14:53.281607Z",
     "start_time": "2024-07-30T01:14:52.843804Z"
    }
   },
   "id": "5f6394aac8ab7f",
   "outputs": [],
   "execution_count": 5
  },
  {
   "cell_type": "code",
   "source": [
    "agent = ConversableAgent(\n",
    "    \"chatbot\",\n",
    "    llm_config=Qwen_weak_llm_config,\n",
    "    code_execution_config=False,  # Turn off code execution, by default it is off.\n",
    "    function_map=None,  # No registered functions, by default it is None.\n",
    "    human_input_mode=\"NEVER\",  # Never ask for human input.\n",
    ")"
   ],
   "metadata": {
    "collapsed": false,
    "ExecuteTime": {
     "end_time": "2024-07-30T03:18:22.475674Z",
     "start_time": "2024-07-30T03:18:22.045501Z"
    }
   },
   "id": "6502f0afc539af53",
   "outputs": [],
   "execution_count": 67
  },
  {
   "cell_type": "code",
   "source": [
    "reply = agent.generate_reply(messages=[{\"content\": \"给我讲个笑话.\", \"role\": \"user\"}])"
   ],
   "metadata": {
    "collapsed": false,
    "ExecuteTime": {
     "end_time": "2024-07-30T03:18:40.032709Z",
     "start_time": "2024-07-30T03:18:38.566725Z"
    }
   },
   "id": "4677a62bc4de2edd",
   "outputs": [],
   "execution_count": 70
  },
  {
   "cell_type": "code",
   "outputs": [
    {
     "name": "stdout",
     "output_type": "stream",
     "text": [
      "当然可以！接下来是一个简短又有趣的笑话：\n",
      "\n",
      "为什么袜子总是只丢一只？因为丢两只根本就不会发现。\n"
     ]
    }
   ],
   "source": [
    "print(reply)"
   ],
   "metadata": {
    "collapsed": false,
    "ExecuteTime": {
     "end_time": "2024-07-30T03:18:40.845418Z",
     "start_time": "2024-07-30T03:18:40.842612Z"
    }
   },
   "id": "6073581a08596163",
   "execution_count": 71
  },
  {
   "metadata": {},
   "cell_type": "markdown",
   "source": [
    "## 文件提取"
   ],
   "id": "dceb703782234c63"
  },
  {
   "metadata": {
    "ExecuteTime": {
     "end_time": "2024-07-30T01:19:48.510587Z",
     "start_time": "2024-07-30T01:19:48.508440Z"
    }
   },
   "cell_type": "code",
   "source": [
    "# 使用kimi api读取\n",
    "def file_extraction(file_path):\n",
    "    file_object = client.files.create(file=Path(file_path), purpose=\"file-extract\")\n",
    "    file_content = client.files.content(file_id=file_object.id).text\n",
    "    return file_content"
   ],
   "id": "48716538a15776a0",
   "outputs": [],
   "execution_count": 15
  },
  {
   "metadata": {
    "ExecuteTime": {
     "end_time": "2024-07-30T01:19:49.389169Z",
     "start_time": "2024-07-30T01:19:49.031485Z"
    }
   },
   "cell_type": "code",
   "source": [
    "text = file_extraction(\"test files/象上-文稿-转写结果.docx\")"
   ],
   "id": "54e93ac2849a936d",
   "outputs": [],
   "execution_count": 16
  },
  {
   "cell_type": "code",
   "outputs": [],
   "source": [
    "PPT = file_extraction(\"test files/上海象上投资.pptx\")"
   ],
   "metadata": {
    "collapsed": false,
    "ExecuteTime": {
     "end_time": "2024-07-30T01:26:29.223910Z",
     "start_time": "2024-07-30T01:26:28.119552Z"
    }
   },
   "id": "41fe22128481ab7e",
   "execution_count": 26
  },
  {
   "metadata": {},
   "cell_type": "markdown",
   "source": [
    "## Agent设计"
   ],
   "id": "c62c5036c7e2dc36"
  },
  {
   "cell_type": "code",
   "outputs": [],
   "source": [
    "def report_writing()"
   ],
   "metadata": {
    "collapsed": false
   },
   "id": "600aae826ce39196"
  },
  {
   "cell_type": "code",
   "outputs": [],
   "source": [
    "extraction_assistant = ConversableAgent(\n",
    "    name = \"信息提取员\",\n",
    "    system_message = \"你是一个信息提取员，任务是将我需要的信息，从我给你的一大段文字中提取出来，并返回给我\",\n",
    "    llm_config = llm_config\n",
    ")"
   ],
   "metadata": {
    "collapsed": false,
    "ExecuteTime": {
     "end_time": "2024-07-30T01:19:51.001131Z",
     "start_time": "2024-07-30T01:19:50.608759Z"
    }
   },
   "id": "4b2cd7c9a78ab2d9",
   "execution_count": 17
  },
  {
   "cell_type": "code",
   "outputs": [],
   "source": [
    "requirements = \"配置逻辑 1这个部分是尽调报告的关键, 以下是量化策略的模板, 量化策略较为标准化, ⽐较⽅便进⾏模块化的抽取, 以下内容都需要进⾏抽取6%- 管理⼈量化策略的整体思路｡ 例如% 整体量化思路以强逻辑为主, 对因⼦的可解释性有很⾼的要求- 管理⼈的因⼦组成和数量, 例如% 共200个，量价类 30%, 基本⾯类 40%, 另类因⼦ 30%- 管理⼈对因⼦的解释定义, 例如% 另类因⼦主要包含公司公告, 新闻舆情, 专利信息等- 管理⼈的因⼦挖掘⽅法, 例如% ⼤部分为⼿⼯挖掘, 较少/不使⽤机器学习- 管理⼈的因⼦处理⽅法, 例如% 会使⽤机器学习将因⼦进⾏组合/会根据相关性把因⼦分组等/⾏业中性/市值中性等- 管理⼈的量化模型% 例如% 以线性模型为主, 具体为排序打分, XXX- 管理⼈的因⼦⼊库条件, 例如% 会在模拟盘中观察 X ⽉, 因⼦相关性不⾼于XX, 关注 ICIR/夏普, 等- 管理⼈的具体执⾏, 例如% 模型对股票进⾏ XXX 处理, 最后选出 XXX 个个股, 使⽤⾃研交易算法进⾏下单等- 管理⼈的对冲⽅法 1如有6% 使⽤什么进⾏对冲, 有⽆敞⼝4. 持仓特征% 管理⼈持有多少只个股, 指数内占⽐等5. 交易⻛格% 年化双边换⼿率 XX 倍 1数据抽取66. 容量% 管理⼈的策略能承受多⼤的资⾦, 如% XX 亿 1数据抽取6\""
   ],
   "metadata": {
    "collapsed": false,
    "ExecuteTime": {
     "end_time": "2024-07-30T01:45:03.804956Z",
     "start_time": "2024-07-30T01:45:03.802519Z"
    }
   },
   "id": "ada89170fcbc407",
   "execution_count": 47
  },
  {
   "cell_type": "code",
   "outputs": [],
   "source": [
    "integrate_assistant = ConversableAgent(\n",
    "    name=\"报告撰写员\",\n",
    "    system_message=f\"你是一个报告撰写员，需要根据我发给你的字段，根据我的要求，详细的写出一份报告，并返回给我,以下是要求：不需要面面俱到，写出提供材料中包含的即可：{requirements}\",\n",
    "    llm_config = strong_llm_cofig\n",
    ")"
   ],
   "metadata": {
    "collapsed": false,
    "ExecuteTime": {
     "end_time": "2024-07-30T01:45:04.543421Z",
     "start_time": "2024-07-30T01:45:04.128031Z"
    }
   },
   "id": "e3222f66d6cc6fa9",
   "execution_count": 48
  },
  {
   "metadata": {
    "ExecuteTime": {
     "end_time": "2024-07-30T01:21:52.619517Z",
     "start_time": "2024-07-30T01:21:42.035507Z"
    }
   },
   "cell_type": "code",
   "outputs": [
    {
     "name": "stdout",
     "output_type": "stream",
     "text": [
      "\u001B[31m\n",
      ">>>>>>>> USING AUTO REPLY...\u001B[0m\n"
     ]
    }
   ],
   "execution_count": 20,
   "source": [
    "quant_idea = extraction_assistant.generate_reply(messages=[{\"content\": text, \"role\":\"system\"},\n",
    "                                                      #{\"content\": \"从文件中提取出有关管理人组织架构相关的信息，包括公司一共有多少人以及他们的分工.\", \"role\": \"user\"},\n",
    "                                                      {\"content\": \"管理⼈量化策略的整体思路, 例如，是偏强逻辑为主, 对因⼦的可解释性有很⾼的要求；还是偏暴力挖掘为主，使用机器学习较多\", \"role\": \"user\"}])"
   ],
   "id": "ec2688a4f5c19ebd"
  },
  {
   "cell_type": "code",
   "outputs": [
    {
     "name": "stdout",
     "output_type": "stream",
     "text": [
      "在管理人量化策略的整体思路方面，对话中提到了以下几点：\n",
      "\n",
      "1. **因子挖掘**：大部分因子是手工挖掘出来的，有一位同事正在做机器学习的部分（说话人3 05:47）。\n",
      "2. **因子权重**：因子的权重会根据历史表现和因子之间的相关性进行调整（说话人3 08:10）。\n",
      "3. **机器学习应用**：使用机器学习主要是为了预测不同策略的表现，并据此调整策略权重（说话人3 08:44）。\n",
      "4. **策略类型**：提到了子策略的概念，这些子策略可能使用不同的因子和处理方式，如量价因子、基本面因子等（说话人3 09:23）。\n",
      "5. **因子逻辑**：因子都是有逻辑的因子，强调了因子的可解释性（说话人1 05:58）。\n",
      "\n",
      "综上所述，管理人的量化策略整体思路既注重因子的逻辑性和可解释性，也利用机器学习技术进行策略优化和预测。他们并没有完全依赖于暴力挖掘，而是在保持因子逻辑性的基础上，适当引入机器学习技术来提升策略的表现。\n"
     ]
    }
   ],
   "source": [
    "print(quant_idea)"
   ],
   "metadata": {
    "collapsed": false,
    "ExecuteTime": {
     "end_time": "2024-07-30T01:21:52.622025Z",
     "start_time": "2024-07-30T01:21:52.619517Z"
    }
   },
   "id": "7553f49a2d6c3f1c",
   "execution_count": 21
  },
  {
   "cell_type": "code",
   "outputs": [
    {
     "name": "stdout",
     "output_type": "stream",
     "text": [
      "\u001B[31m\n",
      ">>>>>>>> USING AUTO REPLY...\u001B[0m\n"
     ]
    }
   ],
   "source": [
    "factor_composition = extraction_assistant.generate_reply(messages=[{\"content\": text, \"role\":\"system\"},\n",
    "                                                      #{\"content\": \"从文件中提取出有关管理人组织架构相关的信息，包括公司一共有多少人以及他们的分工.\", \"role\": \"user\"},\n",
    "                                                      {\"content\": \"从文件中提取出管理人的策略中的因子组成和因子数量\", \"role\": \"user\"}])"
   ],
   "metadata": {
    "collapsed": false,
    "ExecuteTime": {
     "end_time": "2024-07-30T01:28:29.160981Z",
     "start_time": "2024-07-30T01:28:16.518648Z"
    }
   },
   "id": "cbff4b7d86eeb369",
   "execution_count": 30
  },
  {
   "cell_type": "code",
   "outputs": [
    {
     "name": "stdout",
     "output_type": "stream",
     "text": [
      "管理人的策略主要由以下三类因子组成：基本面因子占40%，另类因子占10%，量价因子占50%。这些权重占比指的是因子数量上的权重，而非对收益的贡献占比。目前，管理人的因子库中大概有三五十个因子，实盘中使用的因子数量大约为30个。这些因子主要是通过手工挖掘出来的，但有一位同事正在研究机器学习的部分。\n"
     ]
    }
   ],
   "source": [
    "print(factor_composition)"
   ],
   "metadata": {
    "collapsed": false,
    "ExecuteTime": {
     "end_time": "2024-07-30T01:28:29.163606Z",
     "start_time": "2024-07-30T01:28:29.160981Z"
    }
   },
   "id": "76af47123e0cc683",
   "execution_count": 31
  },
  {
   "cell_type": "code",
   "outputs": [
    {
     "name": "stdout",
     "output_type": "stream",
     "text": [
      "\u001B[31m\n",
      ">>>>>>>> USING AUTO REPLY...\u001B[0m\n"
     ]
    }
   ],
   "source": [
    "factor_explanation = extraction_assistant.generate_reply(messages=[{\"content\": text, \"role\":\"system\"},\n",
    "                                                      #{\"content\": \"从文件中提取出有关管理人组织架构相关的信息，包括公司一共有多少人以及他们的分工.\", \"role\": \"user\"},\n",
    "                                                      {\"content\": \"从文件中提取出管理人对其不同因子类型的解释（如有），具体来说主要是不同因子是基于哪些数据锝出的，不要编造，只能抽取提供信息中有的内容。如果没有详细说明，则返回无\", \"role\": \"user\"}])"
   ],
   "metadata": {
    "collapsed": false,
    "ExecuteTime": {
     "end_time": "2024-07-30T01:30:47.151261Z",
     "start_time": "2024-07-30T01:30:47.136340Z"
    }
   },
   "id": "382e5011e0c5b649",
   "execution_count": 34
  },
  {
   "cell_type": "code",
   "outputs": [
    {
     "name": "stdout",
     "output_type": "stream",
     "text": [
      "在提供的文本中，管理人对其不同因子类型的解释主要涉及以下几个方面：\n",
      "\n",
      "1. 因子的构成：管理人提到他们的量化模型主要基于三类因子，分别是基本面因子（占比40%）、另类因子（占比10%）和量价因子（占比50%）。\n",
      "\n",
      "2. 因子的挖掘：管理人明确表示，他们的因子主要是手工挖掘出来的，并且有一位同事正在研究机器学习的部分。\n",
      "\n",
      "3. 因子的逻辑性：管理人强调他们的因子都是有逻辑的，即每个因子都有其背后的逻辑支持。\n",
      "\n",
      "4. 因子的测试和入库：管理人提到，他们会对因子进行单因子测试，只有通过一定检验的因子，如多空收益和夏普比率等，才会被放入数据库。\n",
      "\n",
      "5. 因子的组合和权重调整：管理人说明他们会根据因子的历史表现和因子之间的相关性来调整不同因子的权重。\n",
      "\n",
      "6. 因子的更新和淘汰：管理人表示他们会持续跟踪因子的表现，并根据市场变化对因子的权重进行调整，如果某个因子表现不佳，可能会被暂时搁置，但不会完全放弃，因为不同市场风格下，某些因子可能会重新变得有效。\n",
      "\n",
      "7. 数据来源：管理人提到他们使用的量化数据主要来源于通联数据，而不是同花顺，因为他们认为同花顺的数据对于他们的策略增强效果一般。\n",
      "\n",
      "8. 舆情系统：虽然提到了舆情系统，但管理人说明这个系统目前还没有用到实盘策略中，主要用于抓取不同平台的信息，可能在盘后的消息中反映在调仓决策里。\n",
      "\n",
      "以上是文本中提到的关于不同因子类型的相关信息，没有编造或添加额外内容。\n"
     ]
    }
   ],
   "source": [
    "print(factor_explanation)"
   ],
   "metadata": {
    "collapsed": false,
    "ExecuteTime": {
     "end_time": "2024-07-30T01:27:44.035911Z",
     "start_time": "2024-07-30T01:27:44.032975Z"
    }
   },
   "id": "d61e64941ad99a39",
   "execution_count": 29
  },
  {
   "cell_type": "code",
   "outputs": [
    {
     "name": "stdout",
     "output_type": "stream",
     "text": [
      "\u001B[31m\n",
      ">>>>>>>> USING AUTO REPLY...\u001B[0m\n"
     ]
    }
   ],
   "source": [
    "model_explanation = extraction_assistant.generate_reply(messages=[{\"content\": text, \"role\":\"system\"},\n",
    "                                                      #{\"content\": \"从文件中提取出有关管理人组织架构相关的信息，包括公司一共有多少人以及他们的分工.\", \"role\": \"user\"},\n",
    "                                                      {\"content\": \"从文件中提取出管理人的建模方法，需要明确提示是线性还是机器学习模型或者是两者都有及其偏好，详述他们的建模方法论, 例如% 以线性模型为主, 具体为排序打分, XXX\", \"role\": \"user\"}])"
   ],
   "metadata": {
    "collapsed": false,
    "ExecuteTime": {
     "end_time": "2024-07-30T01:31:52.310168Z",
     "start_time": "2024-07-30T01:31:28.480551Z"
    }
   },
   "id": "1e11233461f6cdd2",
   "execution_count": 36
  },
  {
   "cell_type": "code",
   "outputs": [
    {
     "name": "stdout",
     "output_type": "stream",
     "text": [
      "根据文件内容，管理人的建模方法主要包括以下几个方面：\n",
      "\n",
      "1. **模型类型**：管理人使用的是线性模型，同时也有机器学习模型的参与。他们主要基于基本面、另类和量价三类因子构建量化模型。\n",
      "\n",
      "2. **因子权重**：模型中，基本面因子占40%，另类因子占10%，量价因子占50%。这些权重指的是因子数量上的占比，而非对收益的贡献占比。\n",
      "\n",
      "3. **因子挖掘**：大部分因子是手工挖掘出来的，但有一位同事正在研究机器学习的部分。\n",
      "\n",
      "4. **因子测试与选择**：在单因子测试阶段，会检验因子的多空收益、夏普比率等指标，满足一定要求后才会加入数据库。然后结合其他因子，考虑其相关性和对组合的贡献度，决定是否加入实盘策略。\n",
      "\n",
      "5. **因子调整**：因子的权重会基于历史表现和因子间的相关性进行调整。如果因子历史表现好，会给予更高的权重；如果两个因子相关性很高，相关性高的第二个因子的权重会降低。\n",
      "\n",
      "6. **机器学习应用**：使用机器学习主要是为了预测不同子策略的表现，并据此调整策略权重。这些子策略可能使用不同的因子集合，形成不同的打分模型。\n",
      "\n",
      "7. **模型频率**：在量价信号上，最高使用到一分钟的频率，但调仓操作以日频为主，将高频信号转换成低频信号。\n",
      "\n",
      "8. **模型策略**：模型包括多头策略和市场中性策略，其中市场中性策略是在多头策略的基础上加入对冲端。\n",
      "\n",
      "9. **风险控制**：会跟踪行业偏离度和风格因子的偏离，并进行一定限制。持仓数量大约在200-300只，个股权重最大不超过2%。\n",
      "\n",
      "10. **模型迭代**：模型的迭代每天都在进行，新因子的加入会不断完善模型。\n",
      "\n",
      "11. **舆情系统**：虽然开发了舆情系统，但目前尚未应用到实盘策略中。\n",
      "\n",
      "12. **T0增强**：使用第三方的T0增强策略。\n",
      "\n",
      "13. **换手率**：换手率较高，大约在60-80倍，但不包括T0交易部分。\n",
      "\n",
      "14. **因子贡献**：最近三年数据显示，盈利、价值和股息率因子对收益的贡献较大。\n",
      "\n",
      "15. **模型运行**：指针策略从2023年开始运行，之前有其他策略，后来调整为只做指针策略。\n",
      "\n",
      "16. **资金容量**：目前没有考虑资金容量，但估计10-20亿的资金规模不会对收益产生衰减。\n",
      "\n",
      "17. **规模和资金来源**：目前总体规模为两个多亿，其中70%为自有资金。\n",
      "\n",
      "通过上述信息，可以看出管理人的建模方法论是以线性模型为主，结合了机器学习技术，并在因子选择、权重分配、策略调整等方面有一套完整的方法论。\n"
     ]
    }
   ],
   "source": [
    "print(model_explanation)"
   ],
   "metadata": {
    "collapsed": false,
    "ExecuteTime": {
     "end_time": "2024-07-30T01:31:52.313244Z",
     "start_time": "2024-07-30T01:31:52.310168Z"
    }
   },
   "id": "94a4679070553748",
   "execution_count": 37
  },
  {
   "cell_type": "code",
   "outputs": [
    {
     "name": "stdout",
     "output_type": "stream",
     "text": [
      "\u001B[31m\n",
      ">>>>>>>> USING AUTO REPLY...\u001B[0m\n"
     ]
    }
   ],
   "source": [
    "factor_update = extraction_assistant.generate_reply(messages=[{\"content\": text, \"role\":\"system\"},\n",
    "                                                      #{\"content\": \"从文件中提取出有关管理人组织架构相关的信息，包括公司一共有多少人以及他们的分工.\", \"role\": \"user\"},\n",
    "                                                      {\"content\": \"从文件中提取出管理人的新因子入库条件，例如：会在模拟盘中观察 X ⽉, 因⼦相关性不⾼于XX, 关注 ICIR/夏普\", \"role\": \"user\"}])"
   ],
   "metadata": {
    "collapsed": false,
    "ExecuteTime": {
     "end_time": "2024-07-30T01:33:25.601499Z",
     "start_time": "2024-07-30T01:33:17.299279Z"
    }
   },
   "id": "3342fd55f52f2ecb",
   "execution_count": 38
  },
  {
   "cell_type": "code",
   "outputs": [
    {
     "name": "stdout",
     "output_type": "stream",
     "text": [
      "根据文件内容，管理人的新因子入库条件主要包括以下几点：\n",
      "\n",
      "1. 因子需要通过单因子测试，满足一定的检验标准，如多空收益、SL等数值达到要求。\n",
      "2. 因子会放入数据库中，结合其他因子进行相关性分析，看其对组合的贡献是否明显。\n",
      "3. 如果因子表现不佳，可能会作为储备因子放入因子库中。\n",
      "4. 因子的权重会基于历史表现和因子之间的相关性进行调整。\n",
      "5. 管理人会使用机器学习预测不同子策略的表现，并据此调整权重。\n",
      "6. 因子的类型会影响其在模拟盘中的观察时间，高频因子可能观察两三个月，低频因子如基本面可能观察半年左右。\n",
      "7. 管理人会定期跟踪因子的表现，并根据历史表现和市场风格的变化进行权重调整。\n",
      "\n",
      "文件中没有明确提到“ICIR/夏普”作为新因子入库的条件。\n"
     ]
    }
   ],
   "source": [
    "print(factor_update)"
   ],
   "metadata": {
    "collapsed": false,
    "ExecuteTime": {
     "end_time": "2024-07-30T01:33:29.679150Z",
     "start_time": "2024-07-30T01:33:29.676347Z"
    }
   },
   "id": "8072cf31c62230b",
   "execution_count": 39
  },
  {
   "cell_type": "code",
   "outputs": [
    {
     "name": "stdout",
     "output_type": "stream",
     "text": [
      "\u001B[31m\n",
      ">>>>>>>> USING AUTO REPLY...\u001B[0m\n"
     ]
    }
   ],
   "source": [
    "strategy_excecution= extraction_assistant.generate_reply(messages=[{\"content\": text, \"role\":\"system\"},\n",
    "                                                      #{\"content\": \"从文件中提取出有关管理人组织架构相关的信息，包括公司一共有多少人以及他们的分工.\", \"role\": \"user\"},\n",
    "                                                      {\"content\": \"从文件中提取出管理人的具体操作，例如有无使用自研/外部的下单算法，不同策略的持股数是多少，年化双边换手率多少倍等\", \"role\": \"user\"}])"
   ],
   "metadata": {
    "collapsed": false,
    "ExecuteTime": {
     "end_time": "2024-07-30T01:36:14.040316Z",
     "start_time": "2024-07-30T01:35:37.643994Z"
    }
   },
   "id": "d3ca1c880907cf6e",
   "execution_count": 40
  },
  {
   "cell_type": "code",
   "outputs": [
    {
     "name": "stdout",
     "output_type": "stream",
     "text": [
      "以下是从文件中提取的管理人的具体操作信息：\n",
      "\n",
      "1. **公司成立与背景**：\n",
      "   - 成立于2021年，最初注册在商登网，后转到上海。\n",
      "   - 创始人曾在同花顺工作，对交易感兴趣，离职后专注于股票量化交易。\n",
      "\n",
      "2. **团队构成**：\n",
      "   - 策略研究员4人。\n",
      "   - 后台开发管理3人，负责风控管理后台。\n",
      "   - 交易员2人。\n",
      "\n",
      "3. **主要策略**：\n",
      "   - 量化中性策略。\n",
      "   - 指数增强策略。\n",
      "\n",
      "4. **产品管理**：\n",
      "   - 杨总作为基金经理，管理所有产品。\n",
      "\n",
      "5. **因子构成**：\n",
      "   - 40%基本面因子。\n",
      "   - 10%另类因子。\n",
      "   - 50%量价因子。\n",
      "\n",
      "6. **因子挖掘**：\n",
      "   - 主要手工挖掘，有一位同事正在研究机器学习。\n",
      "\n",
      "7. **因子库规模**：\n",
      "   - 具体个数未统计，但至少有三五十个因子。\n",
      "\n",
      "8. **因子测试与组合**：\n",
      "   - 单因子测试，通过多空收益、SL等指标筛选。\n",
      "   - 结合其他因子，考虑相关性和组合贡献。\n",
      "\n",
      "9. **因子权重调整**：\n",
      "   - 基于历史表现和因子间相关性调整权重。\n",
      "\n",
      "10. **机器学习应用**：\n",
      "    - 用于预测不同策略的表现，调整策略权重。\n",
      "\n",
      "11. **策略频率**：\n",
      "    - 最高使用一分钟频率的量价信号，但调仓以日频为主。\n",
      "\n",
      "12. **对冲工具**：\n",
      "    - 主要使用IC（股指期货）进行对冲。\n",
      "\n",
      "13. **因子入库与出库**：\n",
      "    - 持续跟踪因子表现，与历史表现对比，必要时调整权重或出库。\n",
      "\n",
      "14. **新因子测试**：\n",
      "    - 高频因子模拟两三个月，低频因子可能模拟半年。\n",
      "\n",
      "15. **数据来源**：\n",
      "    - 不使用同花顺数据，主要使用通联数据。\n",
      "\n",
      "16. **舆情系统**：\n",
      "    - 自行开发，抓取多平台信息，但暂未用于实盘策略。\n",
      "\n",
      "17. **持仓数量**：\n",
      "    - 单个产品持仓约500只股票。\n",
      "\n",
      "18. **个股权重限制**：\n",
      "    - 最大不超过2%。\n",
      "\n",
      "19. **行业偏离度**：\n",
      "    - 限制在5%~10%。\n",
      "\n",
      "20. **风格因子控制**：\n",
      "    - 控制在相对于基准的15%以内。\n",
      "\n",
      "21. **市值暴露**：\n",
      "    - 限制在30%以内。\n",
      "\n",
      "22. **持仓市值中位数**：\n",
      "    - 大约100亿。\n",
      "\n",
      "23. **换手率**：\n",
      "    - 年化60~80倍，不包括T0交易。\n",
      "\n",
      "24. **调仓频率**：\n",
      "    - 每天有调仓，大比例调仓约每月一次。\n",
      "\n",
      "25. **因子贡献**：\n",
      "    - 盈利、价值、股息率贡献较多，市值流动性和波动率也有贡献。\n",
      "\n",
      "26. **策略运行时间**：\n",
      "    - 指针策略从2023年开始运行。\n",
      "\n",
      "27. **资金容量**：\n",
      "    - 目前未考虑资金容量，但估计10~20亿不会影响收益。\n",
      "\n",
      "28. **资金来源**：\n",
      "    - 主要为自有资金，规模超过2亿。\n",
      "\n",
      "29. **股权激励**：\n",
      "    - 目前没有，但有考虑。\n",
      "\n",
      "30. **大股东**：\n",
      "    - 彭总为财务投资人，无职位。\n"
     ]
    }
   ],
   "source": [
    "print(strategy_excecution)"
   ],
   "metadata": {
    "collapsed": false,
    "ExecuteTime": {
     "end_time": "2024-07-30T01:36:14.044180Z",
     "start_time": "2024-07-30T01:36:14.041323Z"
    }
   },
   "id": "b6fb491c7ef5a325",
   "execution_count": 41
  },
  {
   "cell_type": "code",
   "outputs": [],
   "source": [
    "components_list = [quant_idea,factor_composition,factor_explanation,model_explanation,factor_update,strategy_excecution]"
   ],
   "metadata": {
    "collapsed": false,
    "ExecuteTime": {
     "end_time": "2024-07-30T01:39:05.126370Z",
     "start_time": "2024-07-30T01:39:05.123887Z"
    }
   },
   "id": "184b1f65f772512c",
   "execution_count": 43
  },
  {
   "cell_type": "code",
   "outputs": [],
   "source": [],
   "metadata": {
    "collapsed": false,
    "ExecuteTime": {
     "end_time": "2024-07-30T01:41:22.486990Z",
     "start_time": "2024-07-30T01:41:22.484626Z"
    }
   },
   "id": "c034dcfd43f97099",
   "execution_count": 45
  },
  {
   "cell_type": "code",
   "outputs": [
    {
     "name": "stdout",
     "output_type": "stream",
     "text": [
      "\u001B[31m\n",
      ">>>>>>>> USING AUTO REPLY...\u001B[0m\n"
     ]
    }
   ],
   "source": [
    "final_report= integrate_assistant.generate_reply(messages=[{\"content\": str(components_list), \"role\":\"system\"},\n",
    "                                                      {\"content\": \"按需求生成报告，不要分段，写成一整段，要求逻辑清晰，细节完整，但不要有过多的你自由发挥的解释，客观记录为主\", \"role\": \"user\"}])"
   ],
   "metadata": {
    "collapsed": false,
    "ExecuteTime": {
     "end_time": "2024-07-30T01:48:18.300483Z",
     "start_time": "2024-07-30T01:48:18.284300Z"
    }
   },
   "id": "b872f8ee7393d54e",
   "execution_count": 53
  },
  {
   "cell_type": "code",
   "outputs": [
    {
     "name": "stdout",
     "output_type": "stream",
     "text": [
      "根据提供的资料，管理人的量化策略整体思路强调因子的逻辑性和可解释性，同时适当引入机器学习技术进行策略优化和预测。其策略主要由基本面因子（占比40%）、另类因子（占比10%）、量价因子（占比50%）组成，这些权重占比指的是因子数量上的权重而非对收益的贡献占比。管理人的因子库中大约有三五十个因子，实盘中使用的因子数量大约为30个，这些因子主要是通过手工挖掘出来的，但有一位同事正在研究机器学习的部分。\n",
      "\n",
      "在因子的挖掘和测试方面，管理人强调因子都是有逻辑的，即每个因子都有其背后的逻辑支持。他们会对因子进行单因子测试，只有通过一定检验的因子，如多空收益和夏普比率等，才会被放入数据库。因子的权重会根据因子的历史表现和因子之间的相关性进行调整，如果因子历史表现好，会给予更高的权重；如果两个因子相关性很高，相关性高的第二个因子的权重会降低。\n",
      "\n",
      "管理人使用的是线性模型，同时也有机器学习模型的参与。他们主要基于基本面、另类和量价三类因子构建量化模型。使用机器学习主要是为了预测不同子策略的表现，并据此调整策略权重。这些子策略可能使用不同的因子集合，形成不同的打分模型。\n",
      "\n",
      "在风险控制方面，管理人会跟踪行业偏离度和风格因子的偏离，并进行一定限制。持仓数量大约在200-300只，个股权重最大不超过2%。模型的迭代每天都在进行，新因子的加入会不断完善模型。虽然开发了舆情系统，但目前尚未应用到实盘策略中。\n",
      "\n",
      "换手率方面，管理人的策略换手率较高，大约在60-80倍，但不包括T0交易部分。最近三年数据显示，盈利、价值和股息率因子对收益的贡献较大。资金容量方面，目前没有考虑资金容量，但估计10-20亿的资金规模不会对收益产生衰减。目前总体规模为两个多亿，其中70%为自有资金。\n",
      "\n",
      "管理人的新因子入库条件包括通过单因子测试满足一定检验标准，放入数据库中进行相关性分析，观察因子表现并根据历史表现和市场风格的变化进行权重调整。高频因子可能观察两三个月，低频因子如基本面可能观察半年左右。管理人会定期跟踪因子的表现，并根据市场变化对因子的权重进行调整。\n"
     ]
    }
   ],
   "source": [
    "print(final_report)"
   ],
   "metadata": {
    "collapsed": false,
    "ExecuteTime": {
     "end_time": "2024-07-30T01:48:27.946982Z",
     "start_time": "2024-07-30T01:48:27.944239Z"
    }
   },
   "id": "16653dfcb5d1c9e8",
   "execution_count": 55
  },
  {
   "cell_type": "code",
   "outputs": [],
   "source": [],
   "metadata": {
    "collapsed": false
   },
   "id": "4622c54edb3b4425"
  }
 ],
 "metadata": {
  "kernelspec": {
   "display_name": "Python 3",
   "language": "python",
   "name": "python3"
  },
  "language_info": {
   "codemirror_mode": {
    "name": "ipython",
    "version": 2
   },
   "file_extension": ".py",
   "mimetype": "text/x-python",
   "name": "python",
   "nbconvert_exporter": "python",
   "pygments_lexer": "ipython2",
   "version": "2.7.6"
  }
 },
 "nbformat": 4,
 "nbformat_minor": 5
}
